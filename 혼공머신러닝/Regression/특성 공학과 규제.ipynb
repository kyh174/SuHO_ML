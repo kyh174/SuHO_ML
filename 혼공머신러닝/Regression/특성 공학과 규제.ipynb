{
 "cells": [
  {
   "cell_type": "markdown",
   "metadata": {},
   "source": [
    "### 다중회귀\n",
    "- 단순회귀는 하나의 특성만 사용, 다항은 하나의 특성을 여러번 사용\n",
    "- 다중은 여러 특성을 사용특성이 2개면 평면\n",
    "- 특성이 3개 이상이면 표현이 어려움\n",
    "- 여러 특성을 재곱 등 변형해서 새로운 특성을 만들어서 사용 (특성공학)\n",
    "\n",
    "$y = ax_1 + bx_2 + c$ <br>\n",
    "$y = ax_1^2 + dx_2^2 + ax_1+ dx_2 + (a+b)x_1x_2$<br>\n",
    "\n",
    "### 추정기(Estimeator)\n",
    "- Scikit-learn 라이브러리에서 모델 클래스를 추정기라고 함\n",
    "- 지금사용하고 있는 LinearRegression은 추정기 이며 `sklern.linear_model.LinearRegression`으로 씀\n",
    "- Estimeator은 일관되게 fit(), score(), predict() 제공"
   ]
  },
  {
   "cell_type": "code",
   "execution_count": 79,
   "metadata": {},
   "outputs": [
    {
     "name": "stdout",
     "output_type": "stream",
     "text": [
      "행개수와 특성 개수 (42, 9)\n"
     ]
    },
    {
     "data": {
      "text/plain": [
       "(0.9903183436982125, 0.9714559911594155)"
      ]
     },
     "execution_count": 79,
     "metadata": {},
     "output_type": "execute_result"
    }
   ],
   "source": [
    "# 데이터 준비\n",
    "import pandas as pd\n",
    "import numpy as np\n",
    "df = pd.read_csv('https://bit.ly/perch_csv')\n",
    "\n",
    "# 넘파이 배열 만들기\n",
    "perch_full = df.to_numpy()\n",
    "perch_full\n",
    "df\n",
    "# 근데 굳이 넘파이 배열로 해야됨...? 걍 df[] 로해야지 -> 아 미친 target데이터셋을 또 따로 구함..\n",
    "\n",
    "perch_weight = np.array([5.9, 32.0, 40.0, 51.5, 70.0, 100.0, 78.0, 80.0, 85.0, 85.0, 110.0,\n",
    "      115.0, 125.0, 130.0, 120.0, 120.0, 130.0, 135.0, 110.0, 130.0,\n",
    "      150.0, 145.0, 150.0, 170.0, 225.0, 145.0, 188.0, 180.0, 197.0,\n",
    "      218.0, 300.0, 260.0, 265.0, 250.0, 250.0, 300.0, 320.0, 514.0,\n",
    "      556.0, 840.0, 685.0, 700.0, 700.0, 690.0, 900.0, 650.0, 820.0,\n",
    "      850.0, 900.0, 1015.0, 820.0, 1100.0, 1000.0, 1100.0, 1000.0,\n",
    "      1000.0])\n",
    "\n",
    "from sklearn.model_selection import train_test_split\n",
    "train_input, test_input, train_target, test_target = train_test_split(\n",
    "  perch_full, perch_weight, random_state =42)\n",
    "\n",
    "# 다항 특성 만들기\n",
    "# 사이킷런 전처리 클래스\n",
    "from sklearn.preprocessing import PolynomialFeatures\n",
    "\n",
    "'''\n",
    "# poly test 하기\n",
    "# 차수(degree = 2)\n",
    "poly = PolynomialFeatures()\n",
    "\n",
    "# 항상 fit 하고 transform()을 해야됨 - 두개를 합친게 fit_transform\n",
    "# poly.fit([[2,3]])\n",
    "# poly.transform([[2,3]])\n",
    "poly.fit_transform([[2,3]])\n",
    "\n",
    "# 1 (bias) 상수항 2,3,2**,2*3, 3**2 => ??????\n",
    "# 2개의 특성을 가진 샘플 [2,3] 은 6개의 샘플로 변경된다 2, 3, 4(2의제곱), 9(3의제곱), 6(2*3)\n",
    "# y = ax_1 + bx_2 + c\n",
    "'''\n",
    "\n",
    "\n",
    "#훈련, 테스트데이터 다항특성 만들기\n",
    "poly = PolynomialFeatures(include_bias=False)\n",
    "poly.fit(train_input)\n",
    "train_poly = poly.transform(train_input)\n",
    "\n",
    "print(\"행개수와 특성 개수\", train_poly.shape)\n",
    "poly.get_feature_names()\n",
    "\n",
    "test_poly = poly.transform(test_input)\n",
    "\n",
    "# 모델 생성\n",
    "from sklearn.linear_model import LinearRegression\n",
    "\n",
    "lr = LinearRegression()\n",
    "lr.fit(train_poly,train_target)\n",
    "lr.score(train_poly,train_target), lr.score(test_poly,test_target)\n",
    "\n",
    "# 이게 단순선형회귀(0.939846333997604, 0.8247503123313558), 다항선형회귀(0.9706807451768623 0.9775935108325123)보다 높음\n",
    "# 0.99,0.97\n",
    "# 근데 테스트셋이 좀 낮게 나와서 오버피팅임 -> 특성을 더 추가"
   ]
  },
  {
   "cell_type": "code",
   "execution_count": 80,
   "metadata": {},
   "outputs": [
    {
     "name": "stdout",
     "output_type": "stream",
     "text": [
      "특성개수 (42, 55)\n"
     ]
    },
    {
     "data": {
      "text/plain": [
       "(0.9999999999938143, -144.40744532797535)"
      ]
     },
     "execution_count": 80,
     "metadata": {},
     "output_type": "execute_result"
    }
   ],
   "source": [
    "# 더 많은 특성 만들기\n",
    "# 차수 높이기\n",
    "poly = PolynomialFeatures(degree = 5 ,include_bias=False)\n",
    "poly.fit(train_input)\n",
    "train_poly = poly.transform(train_input)\n",
    "test_poly = poly.transform(test_input)\n",
    "\n",
    "print(\"특성개수\",train_poly.shape)\n",
    "\n",
    "lr.fit(train_poly,train_target)\n",
    "lr.score(train_poly,train_target), lr.score(test_poly,test_target)\n",
    "\n",
    "# train은 0.99인데 테스트는 -144로 오버피팅\n",
    "# 오버피팅을 줄이는 규제와 일반화 필요"
   ]
  },
  {
   "cell_type": "markdown",
   "metadata": {},
   "source": [
    "### 규제, 일반화, 정규화\n",
    "<b>규제 및 일반화(Regularization)</b>\n",
    "- 규제는 머신러닝 모델이 훈련 세트를 너무 과도하게 학습하지 못하게 훼방하는것 = <b>오버피팅 방지</b>\n",
    "- 선형회귀면 특성에 곱해지는 계수(기울기와 가중치)의 크기를 작게 만듦\n",
    "- 오버피팅인것은 모델을 이용하여 예측선을 시각화했을시에 데이터와 딱맞게 구불구불하게 그려진다는 말\n",
    "  = 모델의 차수가 크다 (n차 함수로 갈수록 그래프가 많이 꺾임)\n",
    "- 과적합을 막으려면 차수를 줄이면 된다\n",
    "\n",
    "<b>표준화(Standardization)</b>\n",
    "- 규제전에 표준화\n",
    "- 선형회귀는 특성에 대해 스케일 조정(표준 점수화 - z score)의 필요성이 없었음\n",
    "  하지만 규제의 경우 특정 스케일을 맞출 필요가 있음 - 표준화\n",
    "- KNN 예제에서 표준점수로 변환 공식에 따라 변환\n",
    "- 서로 다른 피처의 크기를 통일하기 위해 크기를 변환해줌 = 서로다은 변수의 값 범위를 일정한 수준으로 맞추는 작업을 피처 스케일링이라고함\n",
    "- 데이터가 각각이 평균이 0 이고 분산이 1이 가우시안분포(정규분포)값으로 변환\n",
    "- Skleran의 transform 이용\n",
    "- StandardScaler은 가우시안 정규 분포로 가질 수 있도록 데이터를 변환"
   ]
  },
  {
   "cell_type": "code",
   "execution_count": 81,
   "metadata": {},
   "outputs": [],
   "source": [
    "from sklearn.preprocessing import StandardScaler\n",
    "\n",
    "ss = StandardScaler()\n",
    "# 아 fit은 train으로만 하는것...멍청이 같이 하지 말기..\n",
    "ss.fit(train_poly)\n",
    "train_scaled = ss.transform(train_poly)\n",
    "test_scaled = ss.transform(test_poly)\n",
    "# train_scaled = ss.fit_transform(train_poly)\n",
    "# test_scaled = ss.fit_transform(test_poly)"
   ]
  },
  {
   "cell_type": "markdown",
   "metadata": {},
   "source": [
    "### 릿지(Ridge) 회귀\n",
    "- Ridege는 계수(가중치)를 제곱한 값을 기준으로 규제(벌칙)를 적용\n",
    "- 일반적으로는 Ridge를 더 선호함\n",
    "- Ridge에 규제 강도를 조정하는 인자값은 alpha(기본값은 1)\n",
    "- `rideg = Ridge(alpha=1.5)`이런 식으로 하이퍼파라미터 alpha의 최적값을 찾는 과정이 있어야됨"
   ]
  },
  {
   "cell_type": "code",
   "execution_count": 82,
   "metadata": {},
   "outputs": [
    {
     "data": {
      "text/plain": [
       "(0.9896101671037343, 0.9790693977615386)"
      ]
     },
     "execution_count": 82,
     "metadata": {},
     "output_type": "execute_result"
    }
   ],
   "source": [
    "from sklearn.linear_model import Ridge\n",
    "ridge = Ridge()\n",
    "ridge.fit(train_scaled, train_target)\n",
    "ridge.score(train_scaled, train_target), ridge.score(test_scaled, test_target)"
   ]
  },
  {
   "cell_type": "code",
   "execution_count": 88,
   "metadata": {},
   "outputs": [
    {
     "data": {
      "text/plain": [
       "(0.9903815817570368, 0.9827976465386896)"
      ]
     },
     "execution_count": 88,
     "metadata": {},
     "output_type": "execute_result"
    },
    {
     "data": {
      "image/png": "[encoded data removed]",
      "text/plain": [
       "<Figure size 576x432 with 1 Axes>"
      ]
     },
     "metadata": {
      "needs_background": "light"
     },
     "output_type": "display_data"
    }
   ],
   "source": [
    "# 적절한 규제 강도 찾기 alpha값 찾기\n",
    "# 수동으로  찾기 alpha 6개를 10배수로 하고 log 스케일로 변경\n",
    "# 그래프를 출력하는데 x는 log10으로(작은 값음 촘촘 큰값은 넓어짐)\n",
    "\n",
    "import matplotlib.pyplot as plt\n",
    "import matplotlib\n",
    "matplotlib.rcParams['font.family'] ='Malgun Gothic'\n",
    "matplotlib.rcParams['axes.unicode_minus'] =False\n",
    "\n",
    "# 스코어를 담을 빈 리스트 생성\n",
    "train_score = []\n",
    "test_score = []\n",
    "\n",
    "alpha_list = [0.001, 0.01, 0.1, 1, 10, 100]\n",
    "# 알파값을 변경하며 모델 생성하고 점수를 리스트에 넣기\n",
    "for alpha in alpha_list : \n",
    "  ridge = Ridge(alpha = alpha)\n",
    "  ridge.fit(train_scaled, train_target)\n",
    "  train_score.append(ridge.score(train_scaled, train_target))\n",
    "  test_score.append(ridge.score(test_scaled, test_target))\n",
    "\n",
    "plt.figure(figsize =(8,6))\n",
    "plt.plot(np.log10(alpha_list), train_score, label = \"train_score\")\n",
    "plt.plot(np.log10(alpha_list), test_score, label = \"test_score\")\n",
    "plt.xlabel(\"alpha 값\")\n",
    "plt.ylabel(\"결정계수\")\n",
    "plt.legend()\n",
    "\n",
    "# 보면 0,1일때 가장 좋다\n",
    "ridge = Ridge(alpha=0.1)\n",
    "ridge.fit(train_scaled,train_target)\n",
    "ridge.score(train_scaled, train_target), ridge.score(test_scaled, test_target)"
   ]
  },
  {
   "cell_type": "markdown",
   "metadata": {},
   "source": [
    "### 하이퍼파라미터 튜닝(optimization 최적화)\n",
    "- 많은 탐색 기법\n",
    "- 확실한 정답이 없는 문제로 크게 분류하면 두가지 서로 다른 방법을 사용\n",
    "\n",
    "<b>Babysitting one model(모델 돌보기)</b>\n",
    "- 데이터는 방대하지만 cpu나 gpu 등 컴퓨터 자원이 많이 필요하지 않아서 적은 숫자의 모델을 한번에 학습시킬수 있을때 사용\n",
    "- 성능을 잘 지켜보다가 학습 속도를 조금씩 바꾸는 방식으로 여러 모델을 동시에 학습시킬 컴퓨터의 자원이 충분하지 않을때 사용\n",
    "\n",
    "<b>Training many models in parallel(여러 모델을 함께 학습)</b>\n",
    "- 하이퍼파라미터를 며칠에 걸쳐 스스로 학습하게 함\n",
    "- 여러 하이퍼파라미터 설정을 시험해볼 수 있고 마지막에 최고 성능을 보이는 것을 고름"
   ]
  },
  {
   "cell_type": "markdown",
   "metadata": {},
   "source": [
    "\n",
    "### 라쏘(Lasso ) 회귀\n",
    "- Ridge는 계수의(가중치)를 제곱한 값을 기준으로 규제를 적용한다면\n",
    "- Lasso는 계수의(가중치)의 절대값을 기준으로 규제를 적용"
   ]
  },
  {
   "cell_type": "code",
   "execution_count": 91,
   "metadata": {},
   "outputs": [
    {
     "name": "stderr",
     "output_type": "stream",
     "text": [
      "C:\\Users\\nono\\anaconda3\\lib\\site-packages\\sklearn\\linear_model\\_coordinate_descent.py:530: ConvergenceWarning: Objective did not converge. You might want to increase the number of iterations. Duality gap: 23364.075969939724, tolerance: 518.2793833333334\n",
      "  model = cd_fast.enet_coordinate_descent(\n",
      "C:\\Users\\nono\\anaconda3\\lib\\site-packages\\sklearn\\linear_model\\_coordinate_descent.py:530: ConvergenceWarning: Objective did not converge. You might want to increase the number of iterations. Duality gap: 20251.975097475362, tolerance: 518.2793833333334\n",
      "  model = cd_fast.enet_coordinate_descent(\n",
      "C:\\Users\\nono\\anaconda3\\lib\\site-packages\\sklearn\\linear_model\\_coordinate_descent.py:530: ConvergenceWarning: Objective did not converge. You might want to increase the number of iterations. Duality gap: 806.2370926335934, tolerance: 518.2793833333334\n",
      "  model = cd_fast.enet_coordinate_descent(\n"
     ]
    },
    {
     "data": {
      "text/plain": [
       "(0.9888067471131867, 0.9824470598706695)"
      ]
     },
     "execution_count": 91,
     "metadata": {},
     "output_type": "execute_result"
    },
    {
     "data": {
      "image/png": "[encoded data removed]",
      "text/plain": [
       "<Figure size 576x432 with 1 Axes>"
      ]
     },
     "metadata": {
      "needs_background": "light"
     },
     "output_type": "display_data"
    }
   ],
   "source": [
    "from sklearn.linear_model import Lasso\n",
    "lasso = Lasso()\n",
    "lasso.fit(train_scaled, train_target)\n",
    "lasso.score(train_scaled, train_target), lasso.score(test_scaled, test_target)\n",
    "\n",
    "# 릿지와 동일하게 train와 test 점수를 그래프로 비교\n",
    "alpha_list = [0.001, 0.01, 0.1, 1, 10, 100]\n",
    "train_score = []\n",
    "test_score = []\n",
    "\n",
    "for alpha in alpha_list :\n",
    "  lasso = Lasso(alpha=alpha)\n",
    "  lasso.fit(train_scaled, train_target)\n",
    "  train_score.append(lasso.score(train_scaled, train_target))\n",
    "  test_score.append(lasso.score(test_scaled, test_target))\n",
    "\n",
    "plt.figure(figsize =(8,6))\n",
    "plt.plot(np.log10(alpha_list), train_score, label = \"train_score\")\n",
    "plt.plot(np.log10(alpha_list), test_score, label = \"test_score\")\n",
    "plt.xlabel(\"alpha 값\")\n",
    "plt.ylabel(\"결정계수\")\n",
    "plt.legend()\n",
    "\n",
    "# 암튼 10에서 차이가 제일 적고 언더피팅이 안되니 10으로 alpha 값 설정\n",
    "lasso = Lasso(alpha=10)\n",
    "lasso.fit(train_scaled, train_target)\n",
    "lasso.score(train_scaled, train_target), lasso.score(test_scaled, test_target)\n"
   ]
  }
 ],
 "metadata": {
  "interpreter": {
   "hash": "1dd475f507be082ea69982e00ecc6e654061df2dada6490a6a8a603cd38e4e58"
  },
  "kernelspec": {
   "display_name": "Python 3.8.8 64-bit ('base': conda)",
   "language": "python",
   "name": "python3"
  },
  "language_info": {
   "codemirror_mode": {
    "name": "ipython",
    "version": 3
   },
   "file_extension": ".py",
   "mimetype": "text/x-python",
   "name": "python",
   "nbconvert_exporter": "python",
   "pygments_lexer": "ipython3",
   "version": "3.8.8"
  },
  "orig_nbformat": 4
 },
 "nbformat": 4,
 "nbformat_minor": 2
}
