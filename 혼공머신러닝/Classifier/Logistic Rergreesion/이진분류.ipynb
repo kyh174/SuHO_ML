{
 "cells": [
  {
   "cell_type": "markdown",
   "metadata": {},
   "source": [
    "### 로지스틱 회귀(Logistic Regrssion)\n",
    "- $y = ax_1 + bx_2 + cx_3 + dx_4 + ex_5 + f$\n",
    "- y값이 연속적인 값이면 예측 회귀\n",
    "- 무한대가 나오는것을 분류를 위해 0~1사이로 매핑(0.5를 기준으로 양성과 음성으로 분류함)\n",
    "- 선형회귀로 예측선을 그으면 점들의 특성을 잘 나타내지 못함 - 왜냐면 점들은 1과 0 사이의 값이 없으니까!\n",
    "- 점들의 특성을 정확하게 담안려면 직선이 나닌 S자 형태\n",
    "- 선형회귀와 마찬가지로 적절한 선을 그리는데 직선이 아닌 S자 형태\n",
    "\n",
    "시그모이드\n",
    "- s자 형태로 그래프가 그려지는 함수\n",
    "- 로지스틱 함수 방정식\n",
    "- $\\frac{1}{1+e^-x}$\n",
    "- $e$는 자연상수라고 불리는 무리수의 값 파이같은 존재\n",
    "- 결국 구해야되는 값은 자연상수 $e$의 지수인 $-x$"
   ]
  },
  {
   "cell_type": "code",
   "execution_count": 2,
   "metadata": {},
   "outputs": [
    {
     "data": {
      "image/png": "[encoded data removed]",
      "text/plain": [
       "<Figure size 432x288 with 1 Axes>"
      ]
     },
     "metadata": {
      "needs_background": "light"
     },
     "output_type": "display_data"
    },
    {
     "data": {
      "image/png": "[encoded data removed]",
      "text/plain": [
       "<Figure size 432x288 with 1 Axes>"
      ]
     },
     "metadata": {
      "needs_background": "light"
     },
     "output_type": "display_data"
    },
    {
     "name": "stderr",
     "output_type": "stream",
     "text": [
      "<ipython-input-2-61bd4b687c63>:17: RuntimeWarning: overflow encountered in exp\n",
      "  phi = 1/(1+np.exp(-z))\n"
     ]
    },
    {
     "data": {
      "image/png": "[encoded data removed]",
      "text/plain": [
       "<Figure size 432x288 with 1 Axes>"
      ]
     },
     "metadata": {
      "needs_background": "light"
     },
     "output_type": "display_data"
    }
   ],
   "source": [
    "# 로지스틱 회귀 시그모디으 함수\n",
    "import numpy as np\n",
    "import matplotlib.pyplot as plt\n",
    "\n",
    "z = np.arange(-1,1,0.1)\n",
    "phi = 1/(1+np.exp(-z))\n",
    "plt.plot(z, phi)\n",
    "plt.show()\n",
    "\n",
    "\n",
    "z = np.arange(-5,5,0.1)\n",
    "phi = 1/(1+np.exp(-z))\n",
    "plt.plot(z, phi)\n",
    "plt.show()\n",
    "\n",
    "z = np.arange(-10000,10000,0.1)\n",
    "phi = 1/(1+np.exp(-z))\n",
    "plt.plot(z, phi)\n",
    "plt.show()\n"
   ]
  },
  {
   "cell_type": "markdown",
   "metadata": {},
   "source": [
    "### 이진분류"
   ]
  },
  {
   "cell_type": "code",
   "execution_count": 3,
   "metadata": {},
   "outputs": [
    {
     "name": "stdout",
     "output_type": "stream",
     "text": [
      "[[ 0.91965782  0.60943175  0.81041221  1.85194896  1.00075672]\n",
      " [-1.0858536  -1.68646987 -1.70848587 -1.70159849 -2.0044758 ]\n",
      " [ 0.63818253  0.56257661  0.73223951  1.64473401  0.50705737]\n",
      " [ 0.30041219  0.23459067  0.42823457  1.36042157  0.22329758]\n",
      " [ 0.9027693   0.70314202  0.88858491  1.89027545  0.85537174]\n",
      " [-1.0824759  -1.61150165 -1.62162731 -1.7000674  -1.92815631]\n",
      " [ 0.10337949  0.04717013  0.23714575  0.88445197  0.41799764]\n",
      " [ 1.49668216  1.03112796  1.21864741  2.44274986  1.40289707]\n",
      " [ 0.23004337  0.23459067  0.42823457  1.3336029   0.39983213]\n",
      " [-0.42579405 -0.29018684 -0.11028847  0.65627104 -0.26107519]\n",
      " [ 1.28557569  0.70314202  0.89727076  1.98228866  1.06683526]\n",
      " [ 0.93373158  0.60943175  0.83646978  1.85150445  0.97832415]\n",
      " [ 0.80706771  0.60943175  0.81041221  1.63137406  1.0255057 ]\n",
      " [-1.07262426 -1.52716241 -1.55214047 -1.67235972 -1.86207776]\n",
      " [ 1.6374198   1.17169337  1.27076255  2.41341232  1.40143407]\n",
      " [-1.07966115 -1.63961473 -1.67374245 -1.6462819  -1.87036806]\n",
      " [-1.05151362 -1.33037084 -1.39579507 -1.47914678 -1.45146425]\n",
      " [ 0.15967454  0.11276732  0.29794674  1.17051775  0.29205828]\n",
      " [ 1.56705098  1.17169337  1.32287768  2.16352457  1.17174409]\n",
      " [-0.00921063  0.1408804   0.3240043   0.94026245  0.14734384]\n",
      " [ 0.15967454  0.1408804   0.33269016  1.26991474  0.24109734]\n",
      " [-0.14994827  0.32830094  0.52377898  1.24719543  0.3806913 ]\n",
      " [-0.08520896  0.04717013  0.19371647  0.95507939  0.00439718]\n",
      " [ 0.86336276  0.42201121  0.62800925  1.5003429   0.45670601]\n",
      " [ 0.30041219  0.11276732  0.28057503  1.31303204  0.50608204]\n",
      " [-1.07262426 -1.45219419 -1.51739705 -1.62627903 -1.94607798]\n",
      " [ 0.82114147  0.51572148  0.68881023  1.76102232  0.5621025 ]\n",
      " [-1.07937967 -1.54590446 -1.56951218 -1.64420753 -2.01154694]\n",
      " [-1.07937967 -1.62087268 -1.63899902 -1.67413775 -1.93303295]\n",
      " [-0.29068592 -0.2058476  -0.0060582   0.89334213 -0.08697896]\n",
      " [-1.05095067 -1.26477365 -1.30893652 -1.46447801 -1.56606541]\n",
      " [ 0.51151865  0.51572148  0.7148678   1.54738669  0.68347   ]\n",
      " [ 0.58188748  0.32830094  0.51509312  1.50439286  0.4404302 ]]\n"
     ]
    },
    {
     "data": {
      "text/plain": [
       "array(['Bream', 'Smelt', 'Bream', 'Bream', 'Bream', 'Smelt', 'Bream',\n",
       "       'Bream', 'Bream', 'Bream', 'Bream', 'Bream', 'Bream', 'Smelt',\n",
       "       'Bream', 'Smelt', 'Smelt', 'Bream', 'Bream', 'Bream', 'Bream',\n",
       "       'Bream', 'Bream', 'Bream', 'Bream', 'Smelt', 'Bream', 'Smelt',\n",
       "       'Smelt', 'Bream', 'Smelt', 'Bream', 'Bream'], dtype=object)"
      ]
     },
     "execution_count": 3,
     "metadata": {},
     "output_type": "execute_result"
    }
   ],
   "source": [
    "# 로지스틱 회귀 이진분류\n",
    "# 이진 분류를 위해 생성 7가지중 도미랑 빙어만 추출\n",
    "\n",
    "import pandas as pd\n",
    "from sklearn.model_selection import train_test_split\n",
    "from sklearn.preprocessing import StandardScaler\n",
    "\n",
    "fish = pd.read_csv('https://bit.ly/fish_csv_data')\n",
    "\n",
    "# Boolean indexing 으로 조건문으로 가지고 true false 해서 indexing하기\n",
    "char_arr = np.array(['A','B','C','D','E'])\n",
    "bool_index = char_arr[[True,False,True,False,False]]\n",
    "bool_index\n",
    "\n",
    "# 도미 빙어 적용\n",
    "fish_input = fish[['Weight', 'Length','Diagonal','Height', 'Width']].to_numpy()\n",
    "fish_target = fish['Species'].to_numpy()\n",
    "\n",
    "train_input, test_input, train_target, test_target = train_test_split(\n",
    "  fish_input, fish_target, random_state=42)\n",
    "\n",
    "ss = StandardScaler()\n",
    "ss.fit(train_input)\n",
    "train_scaled = ss.transform(train_input)\n",
    "test_scaled = ss.transform(test_input)\n",
    "\n",
    "bream_smelt_indexes = (train_target == 'Bream') | (train_target == 'Smelt')\n",
    "train_bream_semlt = train_scaled[bream_smelt_indexes]\n",
    "target_bream_semlt = train_target[bream_smelt_indexes]\n",
    "# bream 과 smelt 값만 \n",
    "print(train_bream_semlt) \n",
    "# 종이 bream과 smelt 값만\n",
    "target_bream_semlt"
   ]
  },
  {
   "cell_type": "code",
   "execution_count": 5,
   "metadata": {},
   "outputs": [
    {
     "name": "stdout",
     "output_type": "stream",
     "text": [
      "['Bream' 'Smelt' 'Bream' 'Bream' 'Bream']\n",
      "[-6.02927744  3.57123907 -5.26568906 -4.24321775 -6.0607117 ]\n"
     ]
    },
    {
     "data": {
      "text/plain": [
       "array([0.00240145, 0.97264817, 0.00513928, 0.01415798, 0.00232731])"
      ]
     },
     "execution_count": 5,
     "metadata": {},
     "output_type": "execute_result"
    }
   ],
   "source": [
    "from sklearn.linear_model import LogisticRegression\n",
    "# 모델 생성\n",
    "lr = LogisticRegression()\n",
    "lr.fit(train_bream_semlt, target_bream_semlt)\n",
    "\n",
    "# train으로 예측해보기\n",
    "print(lr.predict(train_bream_semlt[:5]))\n",
    "\n",
    "# 확률 보기\n",
    "# 도미랑 빙어밖에 없어서 2개의 확률을 더하면 1이 됨\n",
    "lr.predict_proba(train_bream_semlt[:5])\n",
    "\n",
    "# KNN 분류애서는 타겟을 설정했었음 도미를 1로 빙어를 0으로\n",
    "# 타겟 데이터 문자는 라벨링을 해야됨\n",
    "\n",
    "# 나눈 클래스(분류 y값 보기)\n",
    "lr.classes_\n",
    "\n",
    "# 도미를 1로 하고싶을땐 \n",
    "# np.where(target_bream_semlt == 'Bream',1.0)\n",
    "\n",
    "f'기울기 :{lr.coef_}, 절편 : {lr.intercept_}' \n",
    "# 무게 길이 대각선 높이 두께\n",
    "\n",
    "# 1/1 + e^-z의 z값 구하기 ->\n",
    "\n",
    "# decision_function은 z값만으로 판단가능(양수 음수)\n",
    "decisions = lr.decision_function(train_bream_semlt[:5])\n",
    "print(decisions)\n",
    "\n",
    "# 시그모이드 출력값(확률값 비교)\n",
    "# predict_porb 함수는 z값을 시그모이드로 통과시켜 확률\n",
    "from scipy.special import expit\n",
    "expit(decisions)\n",
    "\n",
    "# 보면 로지스틱이 이진분류이면 양성값(방어 1) 확률만 계산 -> 음성(방어 0)은 1에서 빼면 됨"
   ]
  }
 ],
 "metadata": {
  "interpreter": {
   "hash": "1dd475f507be082ea69982e00ecc6e654061df2dada6490a6a8a603cd38e4e58"
  },
  "kernelspec": {
   "display_name": "Python 3.8.8 64-bit ('base': conda)",
   "language": "python",
   "name": "python3"
  },
  "language_info": {
   "codemirror_mode": {
    "name": "ipython",
    "version": 3
   },
   "file_extension": ".py",
   "mimetype": "text/x-python",
   "name": "python",
   "nbconvert_exporter": "python",
   "pygments_lexer": "ipython3",
   "version": "3.8.12"
  },
  "orig_nbformat": 4
 },
 "nbformat": 4,
 "nbformat_minor": 2
}
