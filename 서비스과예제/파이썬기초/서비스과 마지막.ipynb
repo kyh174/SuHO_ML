{
 "cells": [
  {
   "cell_type": "code",
   "execution_count": 1,
   "id": "738d5aff",
   "metadata": {},
   "outputs": [],
   "source": [
    "# 데이터 불러오기\n",
    "import pandas as pd\n",
    "\n",
    "df = pd.read_csv('./음식업종별카드소비.csv')"
   ]
  },
  {
   "cell_type": "code",
   "execution_count": 2,
   "id": "de57568b",
   "metadata": {},
   "outputs": [
    {
     "name": "stdout",
     "output_type": "stream",
     "text": [
      "     crym tco_btc_nm  ma_fem_dc  agegrp_dc  tco_btc_u_ct  tco_btc_u_am\n",
      "0  201901         한식          1          1             7  2.392000e+05\n",
      "1  201901         한식          1         10          1618  4.671496e+07\n",
      "2  201901         한식          1         20        150194  4.961334e+09\n",
      "3  201901         한식          1         30        564787  2.006319e+10\n",
      "4  201901         한식          1         40        817438  2.954471e+10\n",
      "        crym tco_btc_nm  ma_fem_dc  agegrp_dc  tco_btc_u_ct  tco_btc_u_am\n",
      "3776  202109    패밀리레스토랑          2         50         15439   435173747.0\n",
      "3777  202109    패밀리레스토랑          2         60          4330   119597475.0\n",
      "3778  202109    패밀리레스토랑          2         70           869    25291467.0\n",
      "3779  202109    패밀리레스토랑          2         80           155     4952434.0\n",
      "3780  202109    패밀리레스토랑          2         90            10      343010.0\n",
      "        crym tco_btc_nm  ma_fem_dc  agegrp_dc  tco_btc_u_ct  tco_btc_u_am\n",
      "0     201901         한식          1          1             7  2.392000e+05\n",
      "1     201901         한식          1         10          1618  4.671496e+07\n",
      "2     201901         한식          1         20        150194  4.961334e+09\n",
      "3     201901         한식          1         30        564787  2.006319e+10\n",
      "4     201901         한식          1         40        817438  2.954471e+10\n",
      "...      ...        ...        ...        ...           ...           ...\n",
      "3776  202109    패밀리레스토랑          2         50         15439  4.351737e+08\n",
      "3777  202109    패밀리레스토랑          2         60          4330  1.195975e+08\n",
      "3778  202109    패밀리레스토랑          2         70           869  2.529147e+07\n",
      "3779  202109    패밀리레스토랑          2         80           155  4.952434e+06\n",
      "3780  202109    패밀리레스토랑          2         90            10  3.430100e+05\n",
      "\n",
      "[3781 rows x 6 columns]\n"
     ]
    }
   ],
   "source": [
    "# 데이터 확인\n",
    "# 여기서 행, 열, 인덱스 개념 설명\n",
    "print(df.head())  # 상위 5개\n",
    "print(df.tail())  # 하위 5개\n",
    "\n",
    "print(df)  # 이렇게하면 상,하위 5개 축약 / 행 60개 초과, 열 20개 초과부터 축약해서 보여줌"
   ]
  },
  {
   "cell_type": "code",
   "execution_count": 3,
   "id": "7bd0a219",
   "metadata": {},
   "outputs": [
    {
     "name": "stdout",
     "output_type": "stream",
     "text": [
      "<class 'pandas.core.frame.DataFrame'>\n",
      "RangeIndex: 3781 entries, 0 to 3780\n",
      "Data columns (total 6 columns):\n",
      " #   Column        Non-Null Count  Dtype  \n",
      "---  ------        --------------  -----  \n",
      " 0   crym          3781 non-null   int64  \n",
      " 1   tco_btc_nm    3781 non-null   object \n",
      " 2   ma_fem_dc     3781 non-null   int64  \n",
      " 3   agegrp_dc     3781 non-null   int64  \n",
      " 4   tco_btc_u_ct  3781 non-null   int64  \n",
      " 5   tco_btc_u_am  3781 non-null   float64\n",
      "dtypes: float64(1), int64(4), object(1)\n",
      "memory usage: 177.4+ KB\n",
      "None\n",
      "crym                                                    763753988\n",
      "tco_btc_nm      한식한식한식한식한식한식한식한식한식한식한식한식한식한식한식한식한식한식한식일식일식일식일식...\n",
      "ma_fem_dc                                                    5683\n",
      "agegrp_dc                                                  178043\n",
      "tco_btc_u_ct                                            259649957\n",
      "tco_btc_u_am                                      7709140233637.0\n",
      "dtype: object\n",
      "crym            2.019979e+05\n",
      "ma_fem_dc       1.503042e+00\n",
      "agegrp_dc       4.708887e+01\n",
      "tco_btc_u_ct    6.867230e+04\n",
      "tco_btc_u_am    2.038916e+09\n",
      "dtype: float64\n"
     ]
    }
   ],
   "source": [
    "# 데이터 통계 확인\n",
    "print(df.info())\n",
    "print(df.sum())\n",
    "print(df.mean()) # 문자열 열(tco_btc_nm)은 평균 못 구하므로 버려짐"
   ]
  },
  {
   "cell_type": "code",
   "execution_count": 4,
   "id": "ea158aa4",
   "metadata": {},
   "outputs": [
    {
     "name": "stdout",
     "output_type": "stream",
     "text": [
      "       crym  tco_btc_nm  ma_fem_dc  agegrp_dc  tco_btc_u_ct  tco_btc_u_am\n",
      "0     False       False      False      False         False         False\n",
      "1     False       False      False      False         False         False\n",
      "2     False       False      False      False         False         False\n",
      "3     False       False      False      False         False         False\n",
      "4     False       False      False      False         False         False\n",
      "...     ...         ...        ...        ...           ...           ...\n",
      "3776  False       False      False      False         False         False\n",
      "3777  False       False      False      False         False         False\n",
      "3778  False       False      False      False         False         False\n",
      "3779  False       False      False      False         False         False\n",
      "3780  False       False      False      False         False         False\n",
      "\n",
      "[3781 rows x 6 columns]\n",
      "       crym  tco_btc_nm  ma_fem_dc  agegrp_dc  tco_btc_u_ct  tco_btc_u_am\n",
      "0     False       False      False      False         False         False\n",
      "1     False       False      False      False         False         False\n",
      "2     False       False      False      False         False         False\n",
      "3     False       False      False      False         False         False\n",
      "4     False       False      False      False         False         False\n",
      "...     ...         ...        ...        ...           ...           ...\n",
      "3776  False       False      False      False         False         False\n",
      "3777  False       False      False      False         False         False\n",
      "3778  False       False      False      False         False         False\n",
      "3779  False       False      False      False         False         False\n",
      "3780  False       False      False      False         False         False\n",
      "\n",
      "[3781 rows x 6 columns]\n",
      "crym            0\n",
      "tco_btc_nm      0\n",
      "ma_fem_dc       0\n",
      "agegrp_dc       0\n",
      "tco_btc_u_ct    0\n",
      "tco_btc_u_am    0\n",
      "dtype: int64\n",
      "crym            0\n",
      "tco_btc_nm      0\n",
      "ma_fem_dc       0\n",
      "agegrp_dc       0\n",
      "tco_btc_u_ct    0\n",
      "tco_btc_u_am    0\n",
      "dtype: int64\n"
     ]
    }
   ],
   "source": [
    "# 데이터 결측치 확인\n",
    "print(df.isna())\n",
    "print(df.isnull())\n",
    "\n",
    "print(df.isnull().sum()) # 이거 설명하면서 isna도 sum하면 되겠죵? 이런식으로\n",
    "print(df.isna().sum()) # 생략해도 될듯"
   ]
  },
  {
   "cell_type": "code",
   "execution_count": 5,
   "id": "df5d3fba",
   "metadata": {},
   "outputs": [
    {
     "name": "stdout",
     "output_type": "stream",
     "text": [
      "Index(['crym', 'tco_btc_nm', 'ma_fem_dc', 'agegrp_dc', 'tco_btc_u_ct',\n",
      "       'tco_btc_u_am'],\n",
      "      dtype='object')\n",
      "[[201901 '한식' 1 1 7 239200.0]\n",
      " [201901 '한식' 1 10 1618 46714960.0]\n",
      " [201901 '한식' 1 20 150194 4961333872.0]\n",
      " ...\n",
      " [202109 '패밀리레스토랑' 2 70 869 25291467.0]\n",
      " [202109 '패밀리레스토랑' 2 80 155 4952434.0]\n",
      " [202109 '패밀리레스토랑' 2 90 10 343010.0]]\n",
      "crym    tco_btc_nm  ma_fem_dc  agegrp_dc  tco_btc_u_ct  tco_btc_u_am\n",
      "201901  양식          1          10         98            2.785260e+06    1\n",
      "202011  일식          1          30         43718         2.157391e+09    1\n",
      "        양식          2          0          1             1.190000e+04    1\n",
      "                               10         65            1.895320e+06    1\n",
      "                               20         23639         7.906809e+08    1\n",
      "                                                                       ..\n",
      "201912  일식          1          30         54341         2.859638e+09    1\n",
      "                               40         69168         3.953678e+09    1\n",
      "                               50         46673         2.820608e+09    1\n",
      "                               60         15129         1.035511e+09    1\n",
      "202109  한식          2          90         352           1.638215e+07    1\n",
      "Length: 3781, dtype: int64\n"
     ]
    }
   ],
   "source": [
    "print(df.columns) # 컬럼 종류 확인\n",
    "print(df.values) # 각 컬럼의 값\n",
    "print(df.value_counts())"
   ]
  },
  {
   "cell_type": "code",
   "execution_count": 6,
   "id": "98162338",
   "metadata": {},
   "outputs": [
    {
     "name": "stdout",
     "output_type": "stream",
     "text": [
      "        crym       업종  ma_fem_dc  agegrp_dc  tco_btc_u_ct  tco_btc_u_am\n",
      "0     201901       한식          1          1             7  2.392000e+05\n",
      "1     201901       한식          1         10          1618  4.671496e+07\n",
      "2     201901       한식          1         20        150194  4.961334e+09\n",
      "3     201901       한식          1         30        564787  2.006319e+10\n",
      "4     201901       한식          1         40        817438  2.954471e+10\n",
      "...      ...      ...        ...        ...           ...           ...\n",
      "3776  202109  패밀리레스토랑          2         50         15439  4.351737e+08\n",
      "3777  202109  패밀리레스토랑          2         60          4330  1.195975e+08\n",
      "3778  202109  패밀리레스토랑          2         70           869  2.529147e+07\n",
      "3779  202109  패밀리레스토랑          2         80           155  4.952434e+06\n",
      "3780  202109  패밀리레스토랑          2         90            10  3.430100e+05\n",
      "\n",
      "[3781 rows x 6 columns]\n",
      "          연도       업종  성별  연령대    이용건수          이용금액\n",
      "0     201901       한식   1    1       7  2.392000e+05\n",
      "1     201901       한식   1   10    1618  4.671496e+07\n",
      "2     201901       한식   1   20  150194  4.961334e+09\n",
      "3     201901       한식   1   30  564787  2.006319e+10\n",
      "4     201901       한식   1   40  817438  2.954471e+10\n",
      "...      ...      ...  ..  ...     ...           ...\n",
      "3776  202109  패밀리레스토랑   2   50   15439  4.351737e+08\n",
      "3777  202109  패밀리레스토랑   2   60    4330  1.195975e+08\n",
      "3778  202109  패밀리레스토랑   2   70     869  2.529147e+07\n",
      "3779  202109  패밀리레스토랑   2   80     155  4.952434e+06\n",
      "3780  202109  패밀리레스토랑   2   90      10  3.430100e+05\n",
      "\n",
      "[3781 rows x 6 columns]\n"
     ]
    }
   ],
   "source": [
    "df = df.rename(columns = {\"tco_btc_nm\": \"업종\"})\n",
    "print(df) # 확인\n",
    "\n",
    "df = df.rename(columns = {\"crym\": \"연도\", \"ma_fem_dc\":\"성별\", \"agegrp_dc\":\"연령대\", \"tco_btc_u_ct\":\"이용건수\", \"tco_btc_u_am\": \"이용금액\"}) # 위 출력결과 복붙해서 이름 변경\n",
    "print(df)"
   ]
  },
  {
   "cell_type": "code",
   "execution_count": 7,
   "id": "c0884314",
   "metadata": {},
   "outputs": [
    {
     "name": "stdout",
     "output_type": "stream",
     "text": [
      "0       201901\n",
      "1       201901\n",
      "2       201901\n",
      "3       201901\n",
      "4       201901\n",
      "         ...  \n",
      "3776    202109\n",
      "3777    202109\n",
      "3778    202109\n",
      "3779    202109\n",
      "3780    202109\n",
      "Name: 연도, Length: 3781, dtype: int64\n",
      "          연도\n",
      "0     201901\n",
      "1     201901\n",
      "2     201901\n",
      "3     201901\n",
      "4     201901\n",
      "...      ...\n",
      "3776  202109\n",
      "3777  202109\n",
      "3778  202109\n",
      "3779  202109\n",
      "3780  202109\n",
      "\n",
      "[3781 rows x 1 columns]\n",
      "           업종    이용건수\n",
      "0          한식       7\n",
      "1          한식    1618\n",
      "2          한식  150194\n",
      "3          한식  564787\n",
      "4          한식  817438\n",
      "...       ...     ...\n",
      "3776  패밀리레스토랑   15439\n",
      "3777  패밀리레스토랑    4330\n",
      "3778  패밀리레스토랑     869\n",
      "3779  패밀리레스토랑     155\n",
      "3780  패밀리레스토랑      10\n",
      "\n",
      "[3781 rows x 2 columns]\n"
     ]
    }
   ],
   "source": [
    "# 인덱싱 - 컬럼명으로 인덱싱\n",
    "print(df['연도']) # 컬럼 한 개 - 1차원으로 하면 리스트 형식\n",
    "print(df[['연도']]) # 2차원으로 하면 데이터 프레임 형식\n",
    "print(df[['업종', '이용건수']]) # 컬럼 여러 개는 2차원 배열 인덱싱만 가능, 데이터 프레임 형식"
   ]
  },
  {
   "cell_type": "code",
   "execution_count": 8,
   "id": "c90049e3",
   "metadata": {},
   "outputs": [
    {
     "name": "stdout",
     "output_type": "stream",
     "text": [
      "             연도  성별  연령대    이용건수          이용금액\n",
      "업종                                            \n",
      "한식       201901   1    1       7  2.392000e+05\n",
      "한식       201901   1   10    1618  4.671496e+07\n",
      "한식       201901   1   20  150194  4.961334e+09\n",
      "한식       201901   1   30  564787  2.006319e+10\n",
      "한식       201901   1   40  817438  2.954471e+10\n",
      "...         ...  ..  ...     ...           ...\n",
      "패밀리레스토랑  202109   2   50   15439  4.351737e+08\n",
      "패밀리레스토랑  202109   2   60    4330  1.195975e+08\n",
      "패밀리레스토랑  202109   2   70     869  2.529147e+07\n",
      "패밀리레스토랑  202109   2   80     155  4.952434e+06\n",
      "패밀리레스토랑  202109   2   90      10  3.430100e+05\n",
      "\n",
      "[3781 rows x 5 columns]\n",
      "        연도  성별  연령대    이용건수          이용금액\n",
      "업종                                       \n",
      "한식  201901   1    1       7  2.392000e+05\n",
      "한식  201901   1   10    1618  4.671496e+07\n",
      "한식  201901   1   20  150194  4.961334e+09\n",
      "한식  201901   1   30  564787  2.006319e+10\n",
      "한식  201901   1   40  817438  2.954471e+10\n",
      "..     ...  ..  ...     ...           ...\n",
      "한식  202109   2   50  661222  2.101174e+10\n",
      "한식  202109   2   60  279090  9.525759e+09\n",
      "한식  202109   2   70   60308  2.084037e+09\n",
      "한식  202109   2   80    9875  3.545398e+08\n",
      "한식  202109   2   90     352  1.638215e+07\n",
      "\n",
      "[659 rows x 5 columns]\n",
      "             연도  성별  연령대   이용건수          이용금액\n",
      "업종                                           \n",
      "일식       201901   1    1      1  8.100000e+04\n",
      "일식       201901   1   10    148  4.460950e+06\n",
      "일식       201901   1   20  14482  5.985680e+08\n",
      "일식       201901   1   30  42017  2.046643e+09\n",
      "일식       201901   1   40  52120  2.753044e+09\n",
      "...         ...  ..  ...    ...           ...\n",
      "패밀리레스토랑  202109   2   50  15439  4.351737e+08\n",
      "패밀리레스토랑  202109   2   60   4330  1.195975e+08\n",
      "패밀리레스토랑  202109   2   70    869  2.529147e+07\n",
      "패밀리레스토랑  202109   2   80    155  4.952434e+06\n",
      "패밀리레스토랑  202109   2   90     10  3.430100e+05\n",
      "\n",
      "[1213 rows x 5 columns]\n"
     ]
    }
   ],
   "source": [
    "# 인덱싱 - 행 이름으로 인덱싱\n",
    "\n",
    "df = df.set_index('업종') # 인덱스 설정\n",
    "\n",
    "print(df)\n",
    "print(df.loc['한식']) # row 이름으로 인덱싱\n",
    "print(df.loc[['일식', '패밀리레스토랑']]) # 여러 row 이름으로 인덱싱 - 2차원 배열로 해야함"
   ]
  },
  {
   "cell_type": "code",
   "execution_count": 9,
   "id": "af56f8d4",
   "metadata": {},
   "outputs": [
    {
     "name": "stdout",
     "output_type": "stream",
     "text": [
      "연도      2.019010e+05\n",
      "성별      1.000000e+00\n",
      "연령대     2.000000e+01\n",
      "이용건수    1.501940e+05\n",
      "이용금액    4.961334e+09\n",
      "Name: 한식, dtype: float64\n",
      "        연도  성별  연령대    이용건수          이용금액\n",
      "업종                                       \n",
      "한식  201901   1   20  150194  4.961334e+09\n",
      "        연도  성별  연령대    이용건수          이용금액\n",
      "업종                                       \n",
      "한식  201901   1   10    1618  4.671496e+07\n",
      "한식  201901   1   20  150194  4.961334e+09\n",
      "한식  201901   1   60  200834  7.369291e+09\n",
      "         연령대          이용금액\n",
      "업종                        \n",
      "한식         1  2.392000e+05\n",
      "한식        10  4.671496e+07\n",
      "한식        20  4.961334e+09\n",
      "한식        30  2.006319e+10\n",
      "한식        40  2.954471e+10\n",
      "...      ...           ...\n",
      "패밀리레스토랑   50  4.351737e+08\n",
      "패밀리레스토랑   60  1.195975e+08\n",
      "패밀리레스토랑   70  2.529147e+07\n",
      "패밀리레스토랑   80  4.952434e+06\n",
      "패밀리레스토랑   90  3.430100e+05\n",
      "\n",
      "[3781 rows x 2 columns]\n",
      "         연령대    이용건수\n",
      "업종                  \n",
      "한식         1       7\n",
      "한식        10    1618\n",
      "한식        20  150194\n",
      "한식        30  564787\n",
      "한식        40  817438\n",
      "...      ...     ...\n",
      "패밀리레스토랑   50   15439\n",
      "패밀리레스토랑   60    4330\n",
      "패밀리레스토랑   70     869\n",
      "패밀리레스토랑   80     155\n",
      "패밀리레스토랑   90      10\n",
      "\n",
      "[3781 rows x 2 columns]\n",
      "         연령대      이용금액  이용건수\n",
      "0          1  239200.0     7\n",
      "1          1  239200.0     1\n",
      "2          1  239200.0     1\n",
      "3          1  239200.0     3\n",
      "4          1  239200.0     1\n",
      "...      ...       ...   ...\n",
      "1448704   90  343010.0    15\n",
      "1448705   90  343010.0    89\n",
      "1448706   90  343010.0    34\n",
      "1448707   90  343010.0    10\n",
      "1448708   90  343010.0    10\n",
      "\n",
      "[1448709 rows x 3 columns] \n",
      "\n",
      "           이용건수          이용금액\n",
      "업종                           \n",
      "한식            7  2.392000e+05\n",
      "한식         1618  4.671496e+07\n",
      "한식       150194  4.961334e+09\n",
      "한식       564787  2.006319e+10\n",
      "한식       817438  2.954471e+10\n",
      "...         ...           ...\n",
      "패밀리레스토랑   15439  4.351737e+08\n",
      "패밀리레스토랑    4330  1.195975e+08\n",
      "패밀리레스토랑     869  2.529147e+07\n",
      "패밀리레스토랑     155  4.952434e+06\n",
      "패밀리레스토랑      10  3.430100e+05\n",
      "\n",
      "[3781 rows x 2 columns]\n"
     ]
    }
   ],
   "source": [
    "# 인덱싱 - 행 번호로 인덱싱\n",
    "\n",
    "print(df.iloc[2]) # 리스트 형식\n",
    "print(df.iloc[[2]]) # 데이터프레임 형식\n",
    "print(df.iloc[[1, 2, 6]]) # 여러 행 인덱싱\n",
    "\n",
    "df_a = df.iloc[:, [2, 4]] # 2, 4 컬럼의 모든 행 인덱싱\n",
    "print(df_a)\n",
    "df_b = df.iloc[:, 2:4] # 1번 컬럼부터 4번 컬럼 전까지 (2,3컬럼)의 모든 행 인덱싱 - 이건 헷갈려서 빼는게 ㄱㅊ을수도\n",
    "print(df_b)\n",
    "\n",
    "df_merge = pd.merge(df_a, df_b, how='left') # df끼리 합치기\n",
    "print(df_merge,\"\\n\")\n",
    "df_concat = pd.concat([df['이용건수'], df['이용금액']], axis = 1) # 컬럼끼리 합치기\n",
    "print(df_concat)"
   ]
  },
  {
   "cell_type": "code",
   "execution_count": 10,
   "id": "3350e385",
   "metadata": {},
   "outputs": [
    {
     "name": "stdout",
     "output_type": "stream",
     "text": [
      "           업종      연도  성별  연령대    이용건수          이용금액\n",
      "0          한식  201901   1    1       7  2.392000e+05\n",
      "1          한식  201901   1   10    1618  4.671496e+07\n",
      "2          한식  201901   1   20  150194  4.961334e+09\n",
      "3          한식  201901   1   30  564787  2.006319e+10\n",
      "4          한식  201901   1   40  817438  2.954471e+10\n",
      "...       ...     ...  ..  ...     ...           ...\n",
      "3776  패밀리레스토랑  202109   2   50   15439  4.351737e+08\n",
      "3777  패밀리레스토랑  202109   2   60    4330  1.195975e+08\n",
      "3778  패밀리레스토랑  202109   2   70     869  2.529147e+07\n",
      "3779  패밀리레스토랑  202109   2   80     155  4.952434e+06\n",
      "3780  패밀리레스토랑  202109   2   90      10  3.430100e+05\n",
      "\n",
      "[3781 rows x 6 columns]\n"
     ]
    }
   ],
   "source": [
    "# print(df)\n",
    "# print(\"\\n\")\n",
    "df = df.reset_index()\n",
    "print(df)"
   ]
  },
  {
   "cell_type": "code",
   "execution_count": 11,
   "id": "39edadd1",
   "metadata": {},
   "outputs": [
    {
     "name": "stdout",
     "output_type": "stream",
     "text": [
      "            연도        성별       연령대      이용건수      이용금액\n",
      "연도    1.000000  0.002587 -0.017230 -0.039665 -0.040000\n",
      "성별    0.002587  1.000000 -0.008731  0.023516  0.007488\n",
      "연령대  -0.017230 -0.008731  1.000000 -0.084356 -0.070100\n",
      "이용건수 -0.039665  0.023516 -0.084356  1.000000  0.983035\n",
      "이용금액 -0.040000  0.007488 -0.070100  0.983035  1.000000\n",
      "            연도        성별       연령대      이용건수      이용금액\n",
      "연도    1.000000  0.002587  0.017230  0.039665  0.040000\n",
      "성별    0.002587  1.000000  0.008731  0.023516  0.007488\n",
      "연령대   0.017230  0.008731  1.000000  0.084356  0.070100\n",
      "이용건수  0.039665  0.023516  0.084356  1.000000  0.983035\n",
      "이용금액  0.040000  0.007488  0.070100  0.983035  1.000000\n",
      "            연도        성별       연령대      이용건수      이용금액\n",
      "성별    0.002587  1.000000  0.008731  0.023516  0.007488\n",
      "연령대   0.017230  0.008731  1.000000  0.084356  0.070100\n",
      "이용건수  0.039665  0.023516  0.084356  1.000000  0.983035\n",
      "이용금액  0.040000  0.007488  0.070100  0.983035  1.000000\n",
      "연도    1.000000  0.002587  0.017230  0.039665  0.040000\n",
      "            연도        성별       연령대      이용건수      이용금액\n",
      "연도    1.000000  0.002587  0.017230  0.039665  0.040000\n",
      "이용금액  0.040000  0.007488  0.070100  0.983035  1.000000\n",
      "이용건수  0.039665  0.023516  0.084356  1.000000  0.983035\n",
      "연령대   0.017230  0.008731  1.000000  0.084356  0.070100\n",
      "성별    0.002587  1.000000  0.008731  0.023516  0.007488\n"
     ]
    }
   ],
   "source": [
    "print(df.corr()) # 상관계수\n",
    "print(df.corr().abs()) # 절댓값 변경\n",
    "print(df.corr().abs().sort_values(by=['연도'])) # crym 기준으로 정렬, 내림차순 기본\n",
    "print(df.corr().abs().sort_values(by=['연도'], ascending=False)) # 오름차순으로 정렬"
   ]
  },
  {
   "cell_type": "code",
   "execution_count": 12,
   "id": "2042dfed",
   "metadata": {
    "scrolled": true
   },
   "outputs": [
    {
     "name": "stdout",
     "output_type": "stream",
     "text": [
      "[1 2]\n",
      "           업종      연도  성별  연령대    이용건수          이용금액\n",
      "0          한식  201901  남성    1       7  2.392000e+05\n",
      "1          한식  201901  남성   10    1618  4.671496e+07\n",
      "2          한식  201901  남성   20  150194  4.961334e+09\n",
      "3          한식  201901  남성   30  564787  2.006319e+10\n",
      "4          한식  201901  남성   40  817438  2.954471e+10\n",
      "...       ...     ...  ..  ...     ...           ...\n",
      "3776  패밀리레스토랑  202109  여성   50   15439  4.351737e+08\n",
      "3777  패밀리레스토랑  202109  여성   60    4330  1.195975e+08\n",
      "3778  패밀리레스토랑  202109  여성   70     869  2.529147e+07\n",
      "3779  패밀리레스토랑  202109  여성   80     155  4.952434e+06\n",
      "3780  패밀리레스토랑  202109  여성   90      10  3.430100e+05\n",
      "\n",
      "[3781 rows x 6 columns]\n",
      "여성    1902\n",
      "남성    1879\n",
      "Name: 성별, dtype: int64\n"
     ]
    }
   ],
   "source": [
    "print(df['성별'].unique())\n",
    "df['성별'] = df['성별'].map({1:'남성', 2:'여성'})\n",
    "print(df)\n",
    "\n",
    "print(df['성별'].value_counts())\n",
    "\n",
    "# 여기까지 하고 to_csv 해도될듯"
   ]
  },
  {
   "cell_type": "code",
   "execution_count": 17,
   "id": "dca7cf6c",
   "metadata": {},
   "outputs": [
    {
     "name": "stdout",
     "output_type": "stream",
     "text": [
      "           연도    연령대       이용건수          이용금액\n",
      "성별                                           \n",
      "남성  379553633  88936  121713380  3.753659e+12\n",
      "여성  384200355  89107  137936577  3.955481e+12\n"
     ]
    },
    {
     "name": "stderr",
     "output_type": "stream",
     "text": [
      "C:\\ProgramData\\Anaconda3\\lib\\site-packages\\matplotlib\\backends\\backend_agg.py:238: RuntimeWarning: Glyph 45224 missing from current font.\n",
      "  font.set_text(s, 0.0, flags=flags)\n",
      "C:\\ProgramData\\Anaconda3\\lib\\site-packages\\matplotlib\\backends\\backend_agg.py:238: RuntimeWarning: Glyph 49457 missing from current font.\n",
      "  font.set_text(s, 0.0, flags=flags)\n",
      "C:\\ProgramData\\Anaconda3\\lib\\site-packages\\matplotlib\\backends\\backend_agg.py:238: RuntimeWarning: Glyph 50668 missing from current font.\n",
      "  font.set_text(s, 0.0, flags=flags)\n",
      "C:\\ProgramData\\Anaconda3\\lib\\site-packages\\matplotlib\\backends\\backend_agg.py:201: RuntimeWarning: Glyph 45224 missing from current font.\n",
      "  font.set_text(s, 0, flags=flags)\n",
      "C:\\ProgramData\\Anaconda3\\lib\\site-packages\\matplotlib\\backends\\backend_agg.py:201: RuntimeWarning: Glyph 49457 missing from current font.\n",
      "  font.set_text(s, 0, flags=flags)\n",
      "C:\\ProgramData\\Anaconda3\\lib\\site-packages\\matplotlib\\backends\\backend_agg.py:201: RuntimeWarning: Glyph 50668 missing from current font.\n",
      "  font.set_text(s, 0, flags=flags)\n"
     ]
    },
    {
     "data": {
      "image/png": "[encoded data removed]",
      "text/plain": [
       "<Figure size 432x288 with 1 Axes>"
      ]
     },
     "metadata": {
      "needs_background": "light"
     },
     "output_type": "display_data"
    },
    {
     "data": {
      "image/png": "[encoded data removed]",
      "text/plain": [
       "<Figure size 432x288 with 1 Axes>"
      ]
     },
     "metadata": {
      "needs_background": "light"
     },
     "output_type": "display_data"
    }
   ],
   "source": [
    "import matplotlib.pyplot as plt\n",
    "\n",
    "df_gender = df.groupby('성별').sum()\n",
    "\n",
    "print(df_gender)\n",
    "\n",
    "plt.bar(df_gender.index, df_gender['이용금액'])\n",
    "plt.show()\n",
    "plt.bar(df_gender.index, df_gender['이용건수'])\n",
    "plt.show()"
   ]
  },
  {
   "cell_type": "code",
   "execution_count": 14,
   "id": "1abaa55a",
   "metadata": {},
   "outputs": [
    {
     "name": "stdout",
     "output_type": "stream",
     "text": [
      "           연도      이용건수          이용금액\n",
      "연령대                                  \n",
      "0    39596635       749  1.515989e+07\n",
      "1     4643849        80  2.171700e+06\n",
      "10   79990812    127796  3.229329e+09\n",
      "20   79990812  18584537  5.247816e+11\n",
      "30   79990812  55158025  1.605713e+12\n",
      "40   79990812  90680204  2.633513e+12\n",
      "50   79990812  65704260  1.990089e+12\n",
      "60   79990812  23159306  7.519947e+11\n",
      "70   79990812   5350121  1.714754e+11\n",
      "80   79990812    853027  2.718885e+10\n",
      "90   79587008     31852  1.138564e+09\n"
     ]
    },
    {
     "data": {
      "text/plain": [
       "<function matplotlib.pyplot.show(close=None, block=None)>"
      ]
     },
     "execution_count": 14,
     "metadata": {},
     "output_type": "execute_result"
    },
    {
     "data": {
      "image/png": "[encoded data removed]",
      "text/plain": [
       "<Figure size 432x288 with 1 Axes>"
      ]
     },
     "metadata": {
      "needs_background": "light"
     },
     "output_type": "display_data"
    }
   ],
   "source": [
    "import matplotlib.pyplot as plt\n",
    "\n",
    "df_age = df.groupby('연령대').sum()\n",
    "\n",
    "print(df_age)\n",
    "\n",
    "plt.plot(df_age['이용건수'])\n",
    "plt.show"
   ]
  },
  {
   "cell_type": "code",
   "execution_count": 23,
   "id": "8e44ebfd",
   "metadata": {},
   "outputs": [
    {
     "data": {
      "text/plain": [
       "<function matplotlib.pyplot.show(close=None, block=None)>"
      ]
     },
     "execution_count": 23,
     "metadata": {},
     "output_type": "execute_result"
    },
    {
     "data": {
      "image/png": "[encoded data removed]",
      "text/plain": [
       "<Figure size 432x288 with 1 Axes>"
      ]
     },
     "metadata": {
      "needs_background": "light"
     },
     "output_type": "display_data"
    }
   ],
   "source": [
    "age = []\n",
    "for i in range(0, 100, 10):\n",
    "    age.append(i)\n",
    "\n",
    "plt.plot(df_age['이용건수'])\n",
    "plt.xticks(age)\n",
    "plt.show\n",
    "\n",
    "# plt.plot(len(0, 100, 10), df_age['이용건수']) # 이거 안 되나? - 수민이네꺼에서 쓰던뎅\n",
    "# 여기까지 탭 2 해도될듯"
   ]
  },
  {
   "cell_type": "code",
   "execution_count": 16,
   "id": "8bd7b270",
   "metadata": {},
   "outputs": [
    {
     "name": "stdout",
     "output_type": "stream",
     "text": [
      "입력하신 연령대는 20이며 선호 업종은 한식입니다.\n"
     ]
    },
    {
     "name": "stderr",
     "output_type": "stream",
     "text": [
      "C:\\ProgramData\\Anaconda3\\lib\\site-packages\\matplotlib\\backends\\backend_agg.py:238: RuntimeWarning: Glyph 50577 missing from current font.\n",
      "  font.set_text(s, 0.0, flags=flags)\n",
      "C:\\ProgramData\\Anaconda3\\lib\\site-packages\\matplotlib\\backends\\backend_agg.py:238: RuntimeWarning: Glyph 49885 missing from current font.\n",
      "  font.set_text(s, 0.0, flags=flags)\n",
      "C:\\ProgramData\\Anaconda3\\lib\\site-packages\\matplotlib\\backends\\backend_agg.py:238: RuntimeWarning: Glyph 51068 missing from current font.\n",
      "  font.set_text(s, 0.0, flags=flags)\n",
      "C:\\ProgramData\\Anaconda3\\lib\\site-packages\\matplotlib\\backends\\backend_agg.py:238: RuntimeWarning: Glyph 51473 missing from current font.\n",
      "  font.set_text(s, 0.0, flags=flags)\n",
      "C:\\ProgramData\\Anaconda3\\lib\\site-packages\\matplotlib\\backends\\backend_agg.py:238: RuntimeWarning: Glyph 54056 missing from current font.\n",
      "  font.set_text(s, 0.0, flags=flags)\n",
      "C:\\ProgramData\\Anaconda3\\lib\\site-packages\\matplotlib\\backends\\backend_agg.py:238: RuntimeWarning: Glyph 48128 missing from current font.\n",
      "  font.set_text(s, 0.0, flags=flags)\n",
      "C:\\ProgramData\\Anaconda3\\lib\\site-packages\\matplotlib\\backends\\backend_agg.py:238: RuntimeWarning: Glyph 47532 missing from current font.\n",
      "  font.set_text(s, 0.0, flags=flags)\n",
      "C:\\ProgramData\\Anaconda3\\lib\\site-packages\\matplotlib\\backends\\backend_agg.py:238: RuntimeWarning: Glyph 47112 missing from current font.\n",
      "  font.set_text(s, 0.0, flags=flags)\n",
      "C:\\ProgramData\\Anaconda3\\lib\\site-packages\\matplotlib\\backends\\backend_agg.py:238: RuntimeWarning: Glyph 49828 missing from current font.\n",
      "  font.set_text(s, 0.0, flags=flags)\n",
      "C:\\ProgramData\\Anaconda3\\lib\\site-packages\\matplotlib\\backends\\backend_agg.py:238: RuntimeWarning: Glyph 53664 missing from current font.\n",
      "  font.set_text(s, 0.0, flags=flags)\n",
      "C:\\ProgramData\\Anaconda3\\lib\\site-packages\\matplotlib\\backends\\backend_agg.py:238: RuntimeWarning: Glyph 46993 missing from current font.\n",
      "  font.set_text(s, 0.0, flags=flags)\n",
      "C:\\ProgramData\\Anaconda3\\lib\\site-packages\\matplotlib\\backends\\backend_agg.py:238: RuntimeWarning: Glyph 53944 missing from current font.\n",
      "  font.set_text(s, 0.0, flags=flags)\n",
      "C:\\ProgramData\\Anaconda3\\lib\\site-packages\\matplotlib\\backends\\backend_agg.py:238: RuntimeWarning: Glyph 54392 missing from current font.\n",
      "  font.set_text(s, 0.0, flags=flags)\n",
      "C:\\ProgramData\\Anaconda3\\lib\\site-packages\\matplotlib\\backends\\backend_agg.py:238: RuntimeWarning: Glyph 46300 missing from current font.\n",
      "  font.set_text(s, 0.0, flags=flags)\n",
      "C:\\ProgramData\\Anaconda3\\lib\\site-packages\\matplotlib\\backends\\backend_agg.py:238: RuntimeWarning: Glyph 51216 missing from current font.\n",
      "  font.set_text(s, 0.0, flags=flags)\n",
      "C:\\ProgramData\\Anaconda3\\lib\\site-packages\\matplotlib\\backends\\backend_agg.py:238: RuntimeWarning: Glyph 54620 missing from current font.\n",
      "  font.set_text(s, 0.0, flags=flags)\n",
      "C:\\ProgramData\\Anaconda3\\lib\\site-packages\\matplotlib\\backends\\backend_agg.py:201: RuntimeWarning: Glyph 50577 missing from current font.\n",
      "  font.set_text(s, 0, flags=flags)\n",
      "C:\\ProgramData\\Anaconda3\\lib\\site-packages\\matplotlib\\backends\\backend_agg.py:201: RuntimeWarning: Glyph 49885 missing from current font.\n",
      "  font.set_text(s, 0, flags=flags)\n",
      "C:\\ProgramData\\Anaconda3\\lib\\site-packages\\matplotlib\\backends\\backend_agg.py:201: RuntimeWarning: Glyph 51068 missing from current font.\n",
      "  font.set_text(s, 0, flags=flags)\n",
      "C:\\ProgramData\\Anaconda3\\lib\\site-packages\\matplotlib\\backends\\backend_agg.py:201: RuntimeWarning: Glyph 51473 missing from current font.\n",
      "  font.set_text(s, 0, flags=flags)\n",
      "C:\\ProgramData\\Anaconda3\\lib\\site-packages\\matplotlib\\backends\\backend_agg.py:201: RuntimeWarning: Glyph 54056 missing from current font.\n",
      "  font.set_text(s, 0, flags=flags)\n",
      "C:\\ProgramData\\Anaconda3\\lib\\site-packages\\matplotlib\\backends\\backend_agg.py:201: RuntimeWarning: Glyph 48128 missing from current font.\n",
      "  font.set_text(s, 0, flags=flags)\n",
      "C:\\ProgramData\\Anaconda3\\lib\\site-packages\\matplotlib\\backends\\backend_agg.py:201: RuntimeWarning: Glyph 47532 missing from current font.\n",
      "  font.set_text(s, 0, flags=flags)\n",
      "C:\\ProgramData\\Anaconda3\\lib\\site-packages\\matplotlib\\backends\\backend_agg.py:201: RuntimeWarning: Glyph 47112 missing from current font.\n",
      "  font.set_text(s, 0, flags=flags)\n",
      "C:\\ProgramData\\Anaconda3\\lib\\site-packages\\matplotlib\\backends\\backend_agg.py:201: RuntimeWarning: Glyph 49828 missing from current font.\n",
      "  font.set_text(s, 0, flags=flags)\n",
      "C:\\ProgramData\\Anaconda3\\lib\\site-packages\\matplotlib\\backends\\backend_agg.py:201: RuntimeWarning: Glyph 53664 missing from current font.\n",
      "  font.set_text(s, 0, flags=flags)\n",
      "C:\\ProgramData\\Anaconda3\\lib\\site-packages\\matplotlib\\backends\\backend_agg.py:201: RuntimeWarning: Glyph 46993 missing from current font.\n",
      "  font.set_text(s, 0, flags=flags)\n",
      "C:\\ProgramData\\Anaconda3\\lib\\site-packages\\matplotlib\\backends\\backend_agg.py:201: RuntimeWarning: Glyph 53944 missing from current font.\n",
      "  font.set_text(s, 0, flags=flags)\n",
      "C:\\ProgramData\\Anaconda3\\lib\\site-packages\\matplotlib\\backends\\backend_agg.py:201: RuntimeWarning: Glyph 54392 missing from current font.\n",
      "  font.set_text(s, 0, flags=flags)\n",
      "C:\\ProgramData\\Anaconda3\\lib\\site-packages\\matplotlib\\backends\\backend_agg.py:201: RuntimeWarning: Glyph 46300 missing from current font.\n",
      "  font.set_text(s, 0, flags=flags)\n",
      "C:\\ProgramData\\Anaconda3\\lib\\site-packages\\matplotlib\\backends\\backend_agg.py:201: RuntimeWarning: Glyph 51216 missing from current font.\n",
      "  font.set_text(s, 0, flags=flags)\n",
      "C:\\ProgramData\\Anaconda3\\lib\\site-packages\\matplotlib\\backends\\backend_agg.py:201: RuntimeWarning: Glyph 54620 missing from current font.\n",
      "  font.set_text(s, 0, flags=flags)\n"
     ]
    },
    {
     "data": {
      "image/png": "[encoded data removed]",
      "text/plain": [
       "<Figure size 432x288 with 1 Axes>"
      ]
     },
     "metadata": {
      "needs_background": "light"
     },
     "output_type": "display_data"
    }
   ],
   "source": [
    "# 입력받은 연령대의 선호 업종 출력 및 그래프 시각화\n",
    "# 또는 성별 입력 -> 정수형 안됨\n",
    "# 또는 연도 입력 -> 연령대랑 비슷\n",
    "\n",
    "# age = int(input(\"연령대 입력 (1, 10, 20, 30... ~ 90)\"))\n",
    "age = 20\n",
    "\n",
    "df_age = df[df['연령대'] == age] # 논리연산 설명\n",
    "# print(df_age)\n",
    "\n",
    "df_age = df_age.groupby('업종').sum()\n",
    "plt.plot(df_age['이용건수'])\n",
    "plt.show\n",
    "\n",
    "max_arg = df_age['이용건수'].argmax()\n",
    "max_arg = df_age.index[max_arg]\n",
    "\n",
    "print(f\"입력하신 연령대는 {age}이며 선호 업종은 {max_arg}입니다.\")"
   ]
  },
  {
   "cell_type": "code",
   "execution_count": null,
   "id": "8f9acfb7",
   "metadata": {},
   "outputs": [],
   "source": []
  }
 ],
 "metadata": {
  "kernelspec": {
   "display_name": "Python 3 (ipykernel)",
   "language": "python",
   "name": "python3"
  },
  "language_info": {
   "codemirror_mode": {
    "name": "ipython",
    "version": 3
   },
   "file_extension": ".py",
   "mimetype": "text/x-python",
   "name": "python",
   "nbconvert_exporter": "python",
   "pygments_lexer": "ipython3",
   "version": "3.8.12"
  }
 },
 "nbformat": 4,
 "nbformat_minor": 5
}
