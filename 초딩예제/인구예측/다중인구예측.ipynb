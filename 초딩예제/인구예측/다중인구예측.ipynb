{
 "cells": [
  {
   "cell_type": "code",
   "execution_count": 2,
   "metadata": {},
   "outputs": [
    {
     "name": "stdout",
     "output_type": "stream",
     "text": [
      "모델 설명력:  0.8449018817239108\n",
      "계수: [-11.36031354  56.1793257 ]\n",
      "절편: 51607972.35689181\n"
     ]
    },
    {
     "data": {
      "image/png": "[encoded data removed]",
      "text/plain": [
       "<Figure size 504x504 with 1 Axes>"
      ]
     },
     "metadata": {
      "needs_background": "light"
     },
     "output_type": "display_data"
    }
   ],
   "source": [
    "import pandas as pd\n",
    "import matplotlib.pyplot as plt\n",
    "import numpy as np\n",
    "from sklearn.linear_model import LinearRegression\n",
    "\n",
    "# 불러올 때 콤마, 제거해서 불러옴\n",
    "df = pd.read_csv('./Data/전국_인구예측(출생,사망_인구).csv', thousands=',')\n",
    "\n",
    "# 결측치 행 삭제\n",
    "df = df.dropna(axis=0)\n",
    "\n",
    "# 결측치 최빈값으로 채우고\n",
    "# df = df.fillna(df['귀화'].min())\n",
    "\n",
    "# 귀화의 데이터타입 int64형으로 변경\n",
    "df = df.astype({'귀화':'int64'})\n",
    "# 변경됐나 확인\n",
    "# df.info()\n",
    "\n",
    "plt.figure(figsize=(7,7))\n",
    "plt.scatter(df['귀화'], df['총인구수'])\n",
    "\n",
    "x_data = np.array(df[['자연증가건수', '귀화']])\n",
    "y_data = np.array(df['총인구수'])\n",
    "\n",
    "model = LinearRegression()\n",
    "model.fit(x_data, y_data)\n",
    "print('모델 설명력: ', model.score(x_data, y_data))\n",
    "coef = model.coef_\n",
    "intercept = model.intercept_\n",
    "\n",
    "print('계수:', coef)\n",
    "print('절편:', intercept)"
   ]
  }
 ],
 "metadata": {
  "interpreter": {
   "hash": "b3ba2566441a7c06988d0923437866b63cedc61552a5af99d1f4fb67d367b25f"
  },
  "kernelspec": {
   "display_name": "Python 3.8.8 64-bit ('base': conda)",
   "language": "python",
   "name": "python3"
  },
  "language_info": {
   "codemirror_mode": {
    "name": "ipython",
    "version": 3
   },
   "file_extension": ".py",
   "mimetype": "text/x-python",
   "name": "python",
   "nbconvert_exporter": "python",
   "pygments_lexer": "ipython3",
   "version": "3.8.8"
  },
  "orig_nbformat": 4
 },
 "nbformat": 4,
 "nbformat_minor": 2
}
