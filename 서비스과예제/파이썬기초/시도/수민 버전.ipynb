{
 "cells": [
  {
   "cell_type": "markdown",
   "metadata": {},
   "source": [
    "### 입출력\n",
    "- 사용자의 입력을 받는다.\n",
    "- 문자열로 취급한다.\n",
    "- 사용자의 입력을 반환.\n",
    "- 입력은 엔터가 입력될 때 엔터 전까지를 모두 받는다."
   ]
  },
  {
   "cell_type": "code",
   "execution_count": null,
   "metadata": {},
   "outputs": [],
   "source": [
    "# 그냥 입력 받기\n",
    "res = input()\n",
    "print(res)"
   ]
  },
  {
   "cell_type": "code",
   "execution_count": null,
   "metadata": {},
   "outputs": [],
   "source": [
    "# 문자열을 주어 입력 받기\n",
    "res = input(\"메세지를 입력하세요:\")\n",
    "print(res)"
   ]
  },
  {
   "cell_type": "code",
   "execution_count": null,
   "metadata": {},
   "outputs": [],
   "source": [
    "# input이 문자열로 입력받는 것을 인식\n",
    "num1 = input('첫 번째 숫자를 입력하세요: ')\n",
    "num2 = input('두 번째 숫자를 입력하세요: ')\n",
    "res = num1 + num2\n",
    "\n",
    "print(res)"
   ]
  },
  {
   "cell_type": "code",
   "execution_count": null,
   "metadata": {},
   "outputs": [],
   "source": [
    "# input이 문자열을 int로 정수형으로 변환\n",
    "num1 = int(input('첫 번째 숫자를 입력하세요: '))\n",
    "num2 = int(input('두 번째 숫자를 입력하세요: '))\n",
    "res = num1 + num2\n",
    "\n",
    "print(res)"
   ]
  },
  {
   "cell_type": "markdown",
   "metadata": {},
   "source": [
    "### 문자열 포맷팅\n",
    "- 문자열 안의 특정한 값을 바꿔야 할 경우가 있을 때 이것을 가능하게 해주는 것이 바로 문자열 포매팅 기법이다.\n",
    "- 파이썬3 부터는 f-string을 주로 사용한다."
   ]
  },
  {
   "cell_type": "code",
   "execution_count": 6,
   "metadata": {},
   "outputs": [
    {
     "name": "stdout",
     "output_type": "stream",
     "text": [
      "저는 숫자 1을/를 좋아합니다.\n"
     ]
    }
   ],
   "source": [
    "# 기본 사용\n",
    "# 문자열 맨 앞에 f를 붙이고, 출력할 변수나 값을 중괄호{}안에 넣는다.\n",
    "\n",
    "num = 1\n",
    "result1 = f'저는 숫자 {num}을/를 좋아합니다.'\n",
    "\n",
    "print(result1)"
   ]
  },
  {
   "cell_type": "code",
   "execution_count": 1,
   "metadata": {},
   "outputs": [
    {
     "name": "stdout",
     "output_type": "stream",
     "text": [
      "첫번째로 입력한 값은 10이고 두번째로 입력한 값으 20입니다. 이 두수를 더한 값은 30입니다.\n"
     ]
    }
   ],
   "source": [
    "# input이 문자열을 int로 정수형으로 변환\n",
    "num1 = int(input('첫 번째 숫자를 입력하세요: '))\n",
    "num2 = int(input('두 번째 숫자를 입력하세요: '))\n",
    "res = num1 + num2\n",
    "\n",
    "print(f'첫번째로 입력한 값은 {num1}이고 두번째로 입력한 값으 {num2}입니다. 이 두수를 더한 값은 {num1+num2}입니다.')"
   ]
  },
  {
   "cell_type": "markdown",
   "metadata": {},
   "source": [
    "### range함수 와 반복문\n",
    "range함수\n",
    "- 특정 구간의 숫자의 범위를 만들어주는 함수\n",
    "- 특정 횟수 만큼 반복하는 반복문을 만들기 유용"
   ]
  },
  {
   "cell_type": "code",
   "execution_count": 3,
   "metadata": {},
   "outputs": [
    {
     "name": "stdout",
     "output_type": "stream",
     "text": [
      "[0, 1, 2, 3, 4, 5, 6, 7, 8]\n",
      "[0, 2, 4, 6, 8]\n"
     ]
    }
   ],
   "source": [
    "print(list(range(9)))\n",
    "\n",
    "print(list(range(0,9,2)))"
   ]
  },
  {
   "cell_type": "markdown",
   "metadata": {},
   "source": [
    "반복문\n",
    "- 반복되는 업무에 대해서 묶어 표현할 수 있는 해줌"
   ]
  },
  {
   "cell_type": "code",
   "execution_count": 7,
   "metadata": {},
   "outputs": [
    {
     "name": "stdout",
     "output_type": "stream",
     "text": [
      "12345\n",
      "\n",
      "12345"
     ]
    }
   ],
   "source": [
    "print(\"1\", end=\"\")\n",
    "print(\"2\", end=\"\")\n",
    "print(\"3\", end=\"\")\n",
    "print(\"4\", end=\"\")\n",
    "print(\"5\", end=\"\")\n",
    "print(\"\\n\")\n",
    "\n",
    "for i in range(1,6):\n",
    "  print(i, end=\"\")"
   ]
  },
  {
   "cell_type": "markdown",
   "metadata": {},
   "source": [
    "append 함수\n",
    "- 리스트에 요소를 추가하는 함수"
   ]
  },
  {
   "cell_type": "code",
   "execution_count": 4,
   "metadata": {},
   "outputs": [
    {
     "name": "stdout",
     "output_type": "stream",
     "text": [
      "[0, 1, 2, 3, 4]\n"
     ]
    }
   ],
   "source": [
    "list = [0,0,0,0,0]\n",
    "for i in range(0,5):\n",
    "    list[i] = i\n",
    "print(list)"
   ]
  },
  {
   "cell_type": "code",
   "execution_count": 3,
   "metadata": {},
   "outputs": [
    {
     "name": "stdout",
     "output_type": "stream",
     "text": [
      "[0, 1, 2, 3, 4]\n"
     ]
    }
   ],
   "source": [
    "list = []\n",
    "for i in range(0,5):\n",
    "    list.append(i)\n",
    "print(list)"
   ]
  },
  {
   "cell_type": "markdown",
   "metadata": {},
   "source": [
    "### 넘파이\n",
    "- 행렬이나 일반적으로 다차원 배열을 쉽게 처리할 수 있도록 지워하는 파이썬 라이브러리\n",
    "- 리스트와 비슷하지만, 원소의 개수를 바꿀수 없다거나 모든 원소가 같은 자료형인 부분이 리스트와 차이를 보인다.\n"
   ]
  },
  {
   "cell_type": "code",
   "execution_count": 17,
   "metadata": {},
   "outputs": [
    {
     "name": "stdout",
     "output_type": "stream",
     "text": [
      "[1, 2, 3]\n",
      "[1 2 3]\n"
     ]
    }
   ],
   "source": [
    "# 넘파이 라이브러리는 임포트를 하여 사용\n",
    "import numpy as np\n",
    "\n",
    "# 차원변경 1차원 배열\n",
    "list = [1,2,3]\n",
    "print(list)\n",
    "a = np.array(list)\n",
    "print(a)"
   ]
  }
 ],
 "metadata": {
  "interpreter": {
   "hash": "1dd475f507be082ea69982e00ecc6e654061df2dada6490a6a8a603cd38e4e58"
  },
  "kernelspec": {
   "display_name": "Python 3.8.12 ('base')",
   "language": "python",
   "name": "python3"
  },
  "language_info": {
   "codemirror_mode": {
    "name": "ipython",
    "version": 3
   },
   "file_extension": ".py",
   "mimetype": "text/x-python",
   "name": "python",
   "nbconvert_exporter": "python",
   "pygments_lexer": "ipython3",
   "version": "3.8.12"
  },
  "orig_nbformat": 4
 },
 "nbformat": 4,
 "nbformat_minor": 2
}
