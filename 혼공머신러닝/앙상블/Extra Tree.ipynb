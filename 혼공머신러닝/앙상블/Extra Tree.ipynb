{
 "cells": [
  {
   "cell_type": "markdown",
   "metadata": {},
   "source": [
    "### 엑스트라 트리\n",
    "- `ExtraTreeClassifier()` (회귀는 `ExtraTreesRegressor()`)\n",
    "- 램덤포레스트의 변종으로 익스트림 랜덤 트리(`extremely randomized trees`)라고함\n",
    "- 차이점은 랜덤에서는 오버피팅을 막기위해 부트스트랩 샘플을 사용했는데\n",
    "  엑스트라에서는 전체 샘플을 사용하면서 다른 방법으로 오버피팅을 방지\n",
    "- 포레스트 트리의 각 후보 특성을 무작위로 분할하는 식으로 무작위성을 증가"
   ]
  },
  {
   "cell_type": "code",
   "execution_count": 1,
   "metadata": {},
   "outputs": [],
   "source": [
    "import pandas as pd\n",
    "from sklearn.model_selection import train_test_split\n",
    "import numpy as np\n",
    "\n",
    "wine = pd.read_csv('https://bit.ly/wine_csv_data')\n",
    "data = wine[['alcohol','sugar','pH']].to_numpy()\n",
    "target = wine['class'].to_numpy()\n",
    "\n",
    "train_input, test_input, train_target, test_target = train_test_split(data, target, random_state=42, test_size=0.2)"
   ]
  },
  {
   "cell_type": "code",
   "execution_count": 9,
   "metadata": {},
   "outputs": [
    {
     "name": "stdout",
     "output_type": "stream",
     "text": [
      "0.9974503966084433 0.8887848893166506\n"
     ]
    },
    {
     "data": {
      "text/plain": [
       "array([0.20183568, 0.52242907, 0.27573525])"
      ]
     },
     "execution_count": 9,
     "metadata": {},
     "output_type": "execute_result"
    }
   ],
   "source": [
    "from sklearn.model_selection import cross_validate\n",
    "from sklearn.ensemble import ExtraTreesClassifier\n",
    "\n",
    "et = ExtraTreesClassifier(n_jobs=-1, random_state=42)\n",
    "scores = cross_validate(et, train_input, train_target, return_train_score=True, n_jobs=-1) # return_train_score=true는 교차 검증, 훈련세트 점수 리턴한다는 말\n",
    "scores\n",
    "print(np.mean(scores['train_score']), np.mean(scores['test_score']))\n",
    "\n",
    "et.fit(train_input, train_target)\n",
    "et.feature_importances_"
   ]
  }
 ],
 "metadata": {
  "interpreter": {
   "hash": "1dd475f507be082ea69982e00ecc6e654061df2dada6490a6a8a603cd38e4e58"
  },
  "kernelspec": {
   "display_name": "Python 3.8.8 ('base')",
   "language": "python",
   "name": "python3"
  },
  "language_info": {
   "codemirror_mode": {
    "name": "ipython",
    "version": 3
   },
   "file_extension": ".py",
   "mimetype": "text/x-python",
   "name": "python",
   "nbconvert_exporter": "python",
   "pygments_lexer": "ipython3",
   "version": "3.8.8"
  },
  "orig_nbformat": 4
 },
 "nbformat": 4,
 "nbformat_minor": 2
}
