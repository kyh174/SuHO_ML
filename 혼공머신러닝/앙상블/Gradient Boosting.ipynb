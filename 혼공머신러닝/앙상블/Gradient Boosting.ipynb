{
 "cells": [
  {
   "cell_type": "markdown",
   "metadata": {},
   "source": [
    "### 그레이디언트 부스팅\n",
    "- 트리 앙상블 알고리즘 중 성능이 좋아서 구현한 패키지들이 많다\n",
    "  LinghtGBM, CatBoost, XGBoost\n",
    "- 테이블 형식 데이터에 대한 예측에서 엄청난 성능을 보임\n",
    "- 경사 하강법(GD-Gradient Descent)에서의 경사와 유사(손실(loss)함수로 최저점 찾기)\n",
    "- 손실 함수- 회귀(MSE), 분류(로지스틱손실)\n",
    "- Boosting이란 약한 분류기를 결합하여 강항 분류기를 반드는 과정 - 트리를 순차적으로 만들어간다 -> 속도가 늦을수도 있음"
   ]
  },
  {
   "cell_type": "code",
   "execution_count": 1,
   "metadata": {},
   "outputs": [],
   "source": [
    "import pandas as pd\n",
    "from sklearn.model_selection import train_test_split\n",
    "import numpy as np\n",
    "\n",
    "wine = pd.read_csv('https://bit.ly/wine_csv_data')\n",
    "data = wine[['alcohol','sugar','pH']].to_numpy()\n",
    "target = wine['class'].to_numpy()\n",
    "\n",
    "train_input, test_input, train_target, test_target = train_test_split(data, target, random_state=42, test_size=0.2)"
   ]
  },
  {
   "cell_type": "code",
   "execution_count": 2,
   "metadata": {},
   "outputs": [
    {
     "data": {
      "text/plain": [
       "(0.8881086892152563, 0.8720430147331015)"
      ]
     },
     "execution_count": 2,
     "metadata": {},
     "output_type": "execute_result"
    }
   ],
   "source": [
    "from sklearn.model_selection import cross_validate\n",
    "from sklearn.ensemble import GradientBoostingClassifier\n",
    "\n",
    "gb = GradientBoostingClassifier(random_state=42)\n",
    "scores = cross_validate(gb, train_input, train_target, return_train_score=True, n_jobs=-1)\n",
    "np.mean(scores['train_score']), np.mean(scores['test_score'])"
   ]
  },
  {
   "cell_type": "code",
   "execution_count": 6,
   "metadata": {},
   "outputs": [
    {
     "name": "stdout",
     "output_type": "stream",
     "text": [
      "0.9464595437171814 0.8780082549788999\n"
     ]
    },
    {
     "data": {
      "text/plain": [
       "array([0.15872278, 0.68011572, 0.16116151])"
      ]
     },
     "execution_count": 6,
     "metadata": {},
     "output_type": "execute_result"
    }
   ],
   "source": [
    "# 트리 개수 확대  - 학습률 설정\n",
    "gb = GradientBoostingClassifier(n_estimators =500, learning_rate =0.2, random_state =42)\n",
    "scores = cross_validate(gb, train_input, train_target, return_train_score=True, n_jobs=-1)\n",
    "print(np.mean(scores['train_score']), np.mean(scores['test_score']))\n",
    "\n",
    "#훈련 후 특징 중요도 출력\n",
    "gb.fit(train_input, train_target)\n",
    "gb.feature_importances_"
   ]
  },
  {
   "cell_type": "code",
   "execution_count": 8,
   "metadata": {},
   "outputs": [
    {
     "data": {
      "text/plain": [
       "(0.9321723946453317, 0.8801241948619236)"
      ]
     },
     "execution_count": 8,
     "metadata": {},
     "output_type": "execute_result"
    }
   ],
   "source": [
    "# 히스토그램 기반 그레이디언트 부스팅\n",
    "from sklearn.experimental import enable_hist_gradient_boosting\n",
    "from sklearn.ensemble import HistGradientBoostingClassifier\n",
    "\n",
    "hgb = HistGradientBoostingClassifier(random_state=42)\n",
    "scores = cross_validate(hgb, train_input, train_target, return_train_score=True, n_jobs=-1)\n",
    "np.mean(scores['train_score']), np.mean(scores['test_score'])"
   ]
  },
  {
   "cell_type": "code",
   "execution_count": 13,
   "metadata": {},
   "outputs": [
    {
     "data": {
      "text/plain": [
       "0.8723076923076923"
      ]
     },
     "execution_count": 13,
     "metadata": {},
     "output_type": "execute_result"
    }
   ],
   "source": [
    "# 히스토그램 권장 방법\n",
    "# permutation(순열, 치환)방식으로 특성\n",
    "from sklearn.inspection import permutation_importance\n",
    "hgb.fit(train_input, train_target)\n",
    "res = permutation_importance(hgb, train_input, train_target, n_repeats=10, random_state=42, n_jobs=-1)\n",
    "# 특성을 하나씩 랜덤하게 섞어 모델의 성능 뱐화 관찰 -> 결과값의 loss가 커질 경우 변수는 중요한 변수라는 것을 의미\n",
    "# n_repeats매개변수는 랜덤하게 섞을 횟수를 지정(기본은 5)\n",
    "\n",
    "res.importances_mean\n",
    "\n",
    "res = permutation_importance(hgb, test_input, test_target, n_repeats=10, random_state=42, n_jobs=-1)\n",
    "res.importances_mean\n",
    "\n",
    "hgb.score(test_input, test_target)"
   ]
  },
  {
   "cell_type": "markdown",
   "metadata": {},
   "source": [
    "### XGBoost vs LightGBM\n",
    "- 그레디언트부스팅 전용 오픈소스 라이브러리\n",
    "- XGBoost는 캐글에서 사용되면서 인기가 높아짐\n",
    "- LightGBM은 MS사에서 개발, 히스토그램기반부스팅 지원"
   ]
  }
 ],
 "metadata": {
  "interpreter": {
   "hash": "1dd475f507be082ea69982e00ecc6e654061df2dada6490a6a8a603cd38e4e58"
  },
  "kernelspec": {
   "display_name": "Python 3.8.8 ('base')",
   "language": "python",
   "name": "python3"
  },
  "language_info": {
   "codemirror_mode": {
    "name": "ipython",
    "version": 3
   },
   "file_extension": ".py",
   "mimetype": "text/x-python",
   "name": "python",
   "nbconvert_exporter": "python",
   "pygments_lexer": "ipython3",
   "version": "3.8.12"
  },
  "orig_nbformat": 4
 },
 "nbformat": 4,
 "nbformat_minor": 2
}
