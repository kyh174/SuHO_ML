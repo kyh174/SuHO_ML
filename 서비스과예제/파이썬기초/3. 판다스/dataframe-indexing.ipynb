{
 "cells": [
  {
   "cell_type": "code",
   "execution_count": 14,
   "metadata": {},
   "outputs": [
    {
     "name": "stdout",
     "output_type": "stream",
     "text": [
      "   A  B   C\n",
      "0  1  5   9\n",
      "1  2  6  10\n",
      "2  3  7  11\n",
      "3  4  8  12\n",
      "\n",
      "\n",
      "0    1\n",
      "1    2\n",
      "2    3\n",
      "3    4\n",
      "Name: A, dtype: int64\n",
      "\n",
      "\n",
      "   A   C\n",
      "0  1   9\n",
      "1  2  10\n",
      "2  3  11\n",
      "3  4  12\n"
     ]
    }
   ],
   "source": [
    "# 데이터프레임 기본 인덱싱\n",
    "import pandas as pd\n",
    "\n",
    "# 데이터프레임 생성\n",
    "df = pd.DataFrame({'A':[1, 2, 3, 4], 'B':[5, 6, 7, 8], 'C':[9, 10, 11, 12]})\n",
    "print(df)\n",
    "print('\\n')\n",
    "\n",
    "# 특정 컬럼만 출력(선택)할 때\n",
    "# df['컬럼명']\n",
    "print(df['A'])\n",
    "print('\\n')\n",
    "\n",
    "# 복수의 특정 컬럼만 출력(선택)할 때\n",
    "# df[['컬럼명1', '컬럼명2']]\n",
    "print(df[['A', 'C']])"
   ]
  }
 ],
 "metadata": {
  "interpreter": {
   "hash": "b3ba2566441a7c06988d0923437866b63cedc61552a5af99d1f4fb67d367b25f"
  },
  "kernelspec": {
   "display_name": "Python 3.8.8 ('base')",
   "language": "python",
   "name": "python3"
  },
  "language_info": {
   "codemirror_mode": {
    "name": "ipython",
    "version": 3
   },
   "file_extension": ".py",
   "mimetype": "text/x-python",
   "name": "python",
   "nbconvert_exporter": "python",
   "pygments_lexer": "ipython3",
   "version": "3.8.8"
  },
  "orig_nbformat": 4
 },
 "nbformat": 4,
 "nbformat_minor": 2
}
