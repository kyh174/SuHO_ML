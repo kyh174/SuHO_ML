{
 "cells": [
  {
   "cell_type": "markdown",
   "metadata": {},
   "source": [
    "### 확률계산하기 KNN\n",
    "- 다수결 원칙으로 판단"
   ]
  },
  {
   "cell_type": "code",
   "execution_count": 6,
   "metadata": {},
   "outputs": [
    {
     "name": "stdout",
     "output_type": "stream",
     "text": [
      "[[0.     0.     1.     0.     0.     0.     0.    ]\n",
      " [0.     0.     0.     0.     0.     1.     0.    ]\n",
      " [0.     0.     0.     1.     0.     0.     0.    ]\n",
      " [0.     0.     0.6667 0.     0.3333 0.     0.    ]\n",
      " [0.     0.     0.6667 0.     0.3333 0.     0.    ]]\n"
     ]
    },
    {
     "data": {
      "text/plain": [
       "array([['Roach', 'Perch', 'Perch']], dtype=object)"
      ]
     },
     "execution_count": 6,
     "metadata": {},
     "output_type": "execute_result"
    }
   ],
   "source": [
    "# KNN을 이용한 분류 확신성(확률) 구하기\n",
    "# 데이터 준비\n",
    "import pandas as pd\n",
    "import numpy as np\n",
    "from sklearn.model_selection import train_test_split\n",
    "from sklearn.preprocessing import StandardScaler\n",
    "from sklearn.neighbors import KNeighborsClassifier\n",
    "\n",
    "fish = pd.read_csv('https://bit.ly/fish_csv_data')\n",
    "fish\n",
    "\n",
    "fish_input = np.array(fish[['Weight', 'Length','Diagonal','Height', 'Width']])\n",
    "fish_target = fish['Species'].to_numpy()\n",
    "\n",
    "# 데이터 분리\n",
    "train_input, test_input, train_target, test_target = train_test_split(\n",
    "  fish_input, fish_target, random_state=42)\n",
    "\n",
    "# 표준화 처리\n",
    "ss = StandardScaler()\n",
    "ss.fit(train_input)\n",
    "train_scaled = ss.transform(train_input)\n",
    "test_scaled = ss.transform(test_input)\n",
    "\n",
    "# KNN 다중 분류 모델 생성\n",
    "kn = KNeighborsClassifier(n_neighbors = 3)\n",
    "kn.fit(train_scaled, train_target)\n",
    "kn.score(train_scaled, train_target), kn.score(test_scaled, test_target)\n",
    "\n",
    "# 분류 종 보기\n",
    "kn.classes_\n",
    "\n",
    "# 테스트셋 앞에 5개 input값 분류예측\n",
    "kn.predict(test_scaled[:5])\n",
    "\n",
    "# 확률 보기\n",
    "proba = kn.predict_proba(test_scaled[:5])\n",
    "print(np.round(proba, decimals =4))\n",
    "\n",
    "# 4번째 샘플 확인하기 - 모델 계산한 확률의 비율이 맞는지\n",
    "dis, inedexes = kn.kneighbors(test_scaled[3:4])\n",
    "train_target[inedexes]\n",
    "\n",
    "# 5번재 클래스 Roach가 1개 3번째 클래스인 Prech가 2개임\n",
    "# 5번째 클래스에 대한 확률은 1/3 = 0.3333\n",
    "# 3번째 클래스에 대한 확률은 2/3 = 0.6667\n",
    "# 이웃수가 3개면 확률이 0/3 1/3 2/3 3/3 밖에 없음 -> 너무 단순함"
   ]
  },
  {
   "cell_type": "markdown",
   "metadata": {},
   "source": []
  }
 ],
 "metadata": {
  "interpreter": {
   "hash": "1dd475f507be082ea69982e00ecc6e654061df2dada6490a6a8a603cd38e4e58"
  },
  "kernelspec": {
   "display_name": "Python 3.8.8 64-bit ('base': conda)",
   "language": "python",
   "name": "python3"
  },
  "language_info": {
   "codemirror_mode": {
    "name": "ipython",
    "version": 3
   },
   "file_extension": ".py",
   "mimetype": "text/x-python",
   "name": "python",
   "nbconvert_exporter": "python",
   "pygments_lexer": "ipython3",
   "version": "3.8.8"
  },
  "orig_nbformat": 4
 },
 "nbformat": 4,
 "nbformat_minor": 2
}
