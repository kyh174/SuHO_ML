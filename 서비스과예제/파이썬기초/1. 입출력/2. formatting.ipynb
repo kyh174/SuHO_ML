{
 "cells": [
  {
   "cell_type": "markdown",
   "metadata": {},
   "source": [
    "문자열 포맷팅\n",
    "- 문자열 안의 특정한 값을 바꿔야 할 경우가 있을 때 이것을 가능하게 해주는 것이 바로 문자열 포매팅 기법이다.\n",
    "- 파이썬3 부터는 f-string을 주로 사용한다."
   ]
  },
  {
   "cell_type": "code",
   "execution_count": 3,
   "metadata": {},
   "outputs": [
    {
     "name": "stdout",
     "output_type": "stream",
     "text": [
      "저는 숫자 1을/를 좋아합니다.\n"
     ]
    }
   ],
   "source": [
    "# 기본 사용\n",
    "# 문자열 맨 앞에 f를 붙이고, 출력할 변수나 값을 중괄호{}안에 넣는다.\n",
    "\n",
    "num = 1\n",
    "result1 = f'저는 숫자 {num}을/를 좋아합니다.'\n",
    "\n",
    "print(result1)"
   ]
  },
  {
   "cell_type": "code",
   "execution_count": 6,
   "metadata": {},
   "outputs": [
    {
     "name": "stdout",
     "output_type": "stream",
     "text": [
      "3 + 5 = 8\n",
      "3 - 5 = -2\n"
     ]
    }
   ],
   "source": [
    "# 응용\n",
    "# 값의 연산\n",
    "\n",
    "x = 3\n",
    "y = 5\n",
    "result2 = f'{x} + {y} = {x + y}'\n",
    "result3 = f'{x} - {y} = {x - y}'\n",
    "\n",
    "print(result2)\n",
    "print(result3)"
   ]
  },
  {
   "cell_type": "code",
   "execution_count": 4,
   "metadata": {},
   "outputs": [
    {
     "name": "stdout",
     "output_type": "stream",
     "text": [
      "1 번째 출력\n",
      "2 번째 출력\n",
      "3 번째 출력\n",
      "4 번째 출력\n",
      "5 번째 출력\n",
      "6 번째 출력\n"
     ]
    }
   ],
   "source": [
    "# 응용\n",
    "# 반복문에서의 응용\n",
    "numbers = [1, 2, 3, 4, 5, 6]\n",
    "\n",
    "for num in numbers:\n",
    "    print(f'{num} 번째 출력')"
   ]
  }
 ],
 "metadata": {
  "interpreter": {
   "hash": "b3ba2566441a7c06988d0923437866b63cedc61552a5af99d1f4fb67d367b25f"
  },
  "kernelspec": {
   "display_name": "Python 3.8.8 ('base')",
   "language": "python",
   "name": "python3"
  },
  "language_info": {
   "codemirror_mode": {
    "name": "ipython",
    "version": 3
   },
   "file_extension": ".py",
   "mimetype": "text/x-python",
   "name": "python",
   "nbconvert_exporter": "python",
   "pygments_lexer": "ipython3",
   "version": "3.8.12"
  },
  "orig_nbformat": 4
 },
 "nbformat": 4,
 "nbformat_minor": 2
}
