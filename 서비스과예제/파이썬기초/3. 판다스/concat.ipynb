{
 "cells": [
  {
   "cell_type": "code",
   "execution_count": 17,
   "metadata": {},
   "outputs": [
    {
     "name": "stdout",
     "output_type": "stream",
     "text": [
      "   A  B  C\n",
      "0  1  4  7\n",
      "1  2  5  8\n",
      "2  3  6  9\n",
      "    X   Y   Z\n",
      "0  10  13  16\n",
      "1  11  14  17\n",
      "2  12  15  18\n",
      "   A   X\n",
      "0  1  10\n",
      "1  2  11\n",
      "2  3  12\n",
      "\n",
      "\n",
      "0     4\n",
      "1     5\n",
      "2     6\n",
      "0    16\n",
      "1    17\n",
      "2    18\n",
      "dtype: int64\n"
     ]
    }
   ],
   "source": [
    "import pandas as pd\n",
    "\n",
    "df1 = pd.DataFrame({'A':[1, 2, 3], 'B':[4, 5, 6], 'C':[7, 8, 9]})\n",
    "df2 = pd.DataFrame({'X':[10, 11, 12], 'Y':[13, 14, 15], 'Z':[16, 17, 18]})\n",
    "\n",
    "print(df1)\n",
    "print(df2)\n",
    "\n",
    "result1 = pd.concat([df1['A'], df2['X']], axis=1)\n",
    "print(result1)\n",
    "\n",
    "print('\\n')\n",
    "result2 = pd.concat([df1['B'], df2['Z']], axis=0)\n",
    "print(result2)"
   ]
  }
 ],
 "metadata": {
  "interpreter": {
   "hash": "b3ba2566441a7c06988d0923437866b63cedc61552a5af99d1f4fb67d367b25f"
  },
  "kernelspec": {
   "display_name": "Python 3.8.8 ('base')",
   "language": "python",
   "name": "python3"
  },
  "language_info": {
   "codemirror_mode": {
    "name": "ipython",
    "version": 3
   },
   "file_extension": ".py",
   "mimetype": "text/x-python",
   "name": "python",
   "nbconvert_exporter": "python",
   "pygments_lexer": "ipython3",
   "version": "3.8.8"
  },
  "orig_nbformat": 4
 },
 "nbformat": 4,
 "nbformat_minor": 2
}
