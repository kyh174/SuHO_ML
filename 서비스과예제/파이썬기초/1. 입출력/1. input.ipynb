{
 "cells": [
  {
   "cell_type": "markdown",
   "metadata": {},
   "source": [
    "input() 함수 정리.\n",
    "- 사용자의 입력을 받는다.\n",
    "- 문자열로 취급한다.\n",
    "- 사용자의 입력을 반환.\n",
    "- 입력은 엔터가 입력될 때 엔터 전까지를 모두 받는다."
   ]
  },
  {
   "cell_type": "code",
   "execution_count": 1,
   "metadata": {},
   "outputs": [
    {
     "name": "stdout",
     "output_type": "stream",
     "text": [
      "안녕하세요\n"
     ]
    }
   ],
   "source": [
    "# 기본\n",
    "result = input()\n",
    "print(result)"
   ]
  },
  {
   "cell_type": "code",
   "execution_count": 2,
   "metadata": {},
   "outputs": [
    {
     "name": "stdout",
     "output_type": "stream",
     "text": [
      "안녕하십니까\n"
     ]
    }
   ],
   "source": [
    "# 응용\n",
    "result2 = input(\"메세지를 입력하세요:\")\n",
    "print(result2)"
   ]
  },
  {
   "cell_type": "code",
   "execution_count": 3,
   "metadata": {},
   "outputs": [
    {
     "name": "stdout",
     "output_type": "stream",
     "text": [
      "46\n"
     ]
    }
   ],
   "source": [
    "# 응용(타입변환 - 문제인식)\n",
    "num1 = input('첫 번째 숫자를 입력하세요: ')\n",
    "num2 = input('두 번째 숫자를 입력하세요: ')\n",
    "result3 = num1 + num2\n",
    "\n",
    "print(result3)"
   ]
  },
  {
   "cell_type": "code",
   "execution_count": 5,
   "metadata": {},
   "outputs": [
    {
     "name": "stdout",
     "output_type": "stream",
     "text": [
      "10\n"
     ]
    }
   ],
   "source": [
    "# 응용(타입변환 - 문제해결)\n",
    "num3 = int(input('첫 번째 숫자를 입력하세요: '))\n",
    "num4 = int(input('두 번째 숫자를 입력하세요: '))\n",
    "result4 = num3 + num4\n",
    "\n",
    "print(result4)"
   ]
  }
 ],
 "metadata": {
  "interpreter": {
   "hash": "b3ba2566441a7c06988d0923437866b63cedc61552a5af99d1f4fb67d367b25f"
  },
  "kernelspec": {
   "display_name": "Python 3.8.8 ('base')",
   "language": "python",
   "name": "python3"
  },
  "language_info": {
   "codemirror_mode": {
    "name": "ipython",
    "version": 3
   },
   "file_extension": ".py",
   "mimetype": "text/x-python",
   "name": "python",
   "nbconvert_exporter": "python",
   "pygments_lexer": "ipython3",
   "version": "3.8.8"
  },
  "orig_nbformat": 4
 },
 "nbformat": 4,
 "nbformat_minor": 2
}
