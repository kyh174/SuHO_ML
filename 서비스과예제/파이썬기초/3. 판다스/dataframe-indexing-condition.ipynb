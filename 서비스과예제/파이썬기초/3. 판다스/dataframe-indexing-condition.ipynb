{
 "cells": [
  {
   "cell_type": "code",
   "execution_count": 17,
   "metadata": {},
   "outputs": [
    {
     "name": "stdout",
     "output_type": "stream",
     "text": [
      "   A  B\n",
      "0  1  5\n",
      "1  2  6\n",
      "2  3  7\n",
      "3  4  8\n",
      "\n",
      "\n",
      "0    1\n",
      "1    2\n",
      "2    3\n",
      "Name: A, dtype: int64\n",
      "\n",
      "\n",
      "   A  B\n",
      "1  2  6\n",
      "2  3  7\n",
      "3  4  8\n",
      "\n",
      "\n",
      "    이름 성적\n",
      "0  김철수  A\n",
      "1  박성균  A\n",
      "2  서상현  B\n",
      "3  이종민  C\n",
      "4  최익현  D\n",
      "5  김형배  A\n",
      "\n",
      "\n",
      "    이름 성적\n",
      "0  김철수  A\n",
      "1  박성균  A\n",
      "5  김형배  A\n",
      "\n",
      "\n",
      "0    김철수\n",
      "1    박성균\n",
      "5    김형배\n",
      "Name: 이름, dtype: object\n"
     ]
    }
   ],
   "source": [
    "import pandas as pd\n",
    "\n",
    "df = pd.DataFrame({'A':[1, 2, 3, 4], 'B':[5, 6, 7, 8]})\n",
    "print(df)\n",
    "\n",
    "# A 컬럼의 값이 3이하인 행의 A컬럼만 가져오기\n",
    "result1 = df[df['A'] <= 3]['A']\n",
    "print('\\n')\n",
    "print(result1)\n",
    "\n",
    "# B 컬럼의 값이 6이상인 행의 모든 컬럼 값 가져오기\n",
    "result2 = df[df['B'] >= 6]\n",
    "print('\\n')\n",
    "print(result2)\n",
    "\n",
    "df2 = pd.DataFrame({'이름':['김철수', '박성균', '서상현', '이종민', '최익현', '김형배'], '성적':['A', 'A', 'B', 'C', 'D', 'A']})\n",
    "print('\\n')\n",
    "print(df2)\n",
    "\n",
    "# 성적이 A인 사람들만 골라내기\n",
    "result3 = df2[df2['성적'] == 'A']\n",
    "print('\\n')\n",
    "print(result3)\n",
    "\n",
    "# 성적이 A인 사람들의 이름만 골라내기\n",
    "result4 = df2[df2['성적'] == 'A']['이름']\n",
    "print('\\n')\n",
    "print(result4)"
   ]
  }
 ],
 "metadata": {
  "interpreter": {
   "hash": "b3ba2566441a7c06988d0923437866b63cedc61552a5af99d1f4fb67d367b25f"
  },
  "kernelspec": {
   "display_name": "Python 3.8.8 ('base')",
   "language": "python",
   "name": "python3"
  },
  "language_info": {
   "codemirror_mode": {
    "name": "ipython",
    "version": 3
   },
   "file_extension": ".py",
   "mimetype": "text/x-python",
   "name": "python",
   "nbconvert_exporter": "python",
   "pygments_lexer": "ipython3",
   "version": "3.8.8"
  },
  "orig_nbformat": 4
 },
 "nbformat": 4,
 "nbformat_minor": 2
}
